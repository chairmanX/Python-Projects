{
 "cells": [
  {
   "cell_type": "code",
   "execution_count": 191,
   "metadata": {},
   "outputs": [],
   "source": [
    "import docx\n",
    "import os"
   ]
  },
  {
   "cell_type": "markdown",
   "metadata": {},
   "source": [
    "Loading the data: getting full text from all the .docx interview files"
   ]
  },
  {
   "cell_type": "code",
   "execution_count": 192,
   "metadata": {},
   "outputs": [],
   "source": [
    "#function to get all text from a file \n",
    "def getText(filename):\n",
    "    doc = docx.Document(filename)\n",
    "    fullText = \"\"\n",
    "    for para in doc.paragraphs: \n",
    "        fullText = fullText + para.text + \" \"\n",
    "    return fullText"
   ]
  },
  {
   "cell_type": "code",
   "execution_count": 193,
   "metadata": {},
   "outputs": [
    {
     "data": {
      "text/plain": [
       "'C:\\\\Users\\\\605665\\\\Documents\\\\Student2Student\\\\Interview Notes'"
      ]
     },
     "execution_count": 193,
     "metadata": {},
     "output_type": "execute_result"
    }
   ],
   "source": [
    "#change working directory\n",
    "interview_folder = \"C:\\\\Users\\\\605665\\\\Documents\\\\Student2Student\\\\Interview Notes\"\n",
    "os.chdir(interview_folder)\n",
    "os.getcwd()"
   ]
  },
  {
   "cell_type": "code",
   "execution_count": 202,
   "metadata": {},
   "outputs": [],
   "source": [
    "allText = [] #list for all the interview text \n",
    "# function to loop through all the interview notes documents \n",
    "for filename in os.listdir(interview_folder):\n",
    "    if '.docx' in filename:\n",
    "        allText.append(getText(filename))"
   ]
  },
  {
   "cell_type": "code",
   "execution_count": 203,
   "metadata": {},
   "outputs": [
    {
     "data": {
      "text/plain": [
       "38"
      ]
     },
     "execution_count": 203,
     "metadata": {},
     "output_type": "execute_result"
    }
   ],
   "source": [
    "len(allText)"
   ]
  },
  {
   "cell_type": "markdown",
   "metadata": {},
   "source": [
    "Pre-processing:\n",
    "- Tokenization: split text, lowercase, remove puncutation \n",
    "- removing words with fewer than 3 characters\n",
    "- removing stopwords \n",
    "- lemmatized: grouping different inflections of words together \n",
    "- stemmed: words reduced to root form "
   ]
  },
  {
   "cell_type": "code",
   "execution_count": 115,
   "metadata": {},
   "outputs": [
    {
     "name": "stderr",
     "output_type": "stream",
     "text": [
      "[nltk_data] Downloading package wordnet to\n",
      "[nltk_data]     C:\\Users\\605665\\AppData\\Roaming\\nltk_data...\n",
      "[nltk_data]   Package wordnet is already up-to-date!\n"
     ]
    },
    {
     "data": {
      "text/plain": [
       "True"
      ]
     },
     "execution_count": 115,
     "metadata": {},
     "output_type": "execute_result"
    }
   ],
   "source": [
    "import gensim\n",
    "from gensim.utils import simple_preprocess\n",
    "from gensim.parsing.preprocessing import STOPWORDS\n",
    "from nltk.stem import WordNetLemmatizer, SnowballStemmer\n",
    "from nltk.stem.porter import *\n",
    "import numpy as np\n",
    "np.random.seed(2018)\n",
    "import nltk\n",
    "nltk.download('wordnet')"
   ]
  },
  {
   "cell_type": "code",
   "execution_count": 204,
   "metadata": {},
   "outputs": [
    {
     "name": "stdout",
     "output_type": "stream",
     "text": [
      "go\n"
     ]
    }
   ],
   "source": [
    "#lemmatize example\n",
    "print(WordNetLemmatizer().lemmatize('went', pos='v'))"
   ]
  },
  {
   "cell_type": "code",
   "execution_count": 205,
   "metadata": {},
   "outputs": [],
   "source": [
    "#create a new instance of an english stemmer\n",
    "stemmer = SnowballStemmer('english')"
   ]
  },
  {
   "cell_type": "code",
   "execution_count": 206,
   "metadata": {},
   "outputs": [],
   "source": [
    "# lemmatization and stemming\n",
    "def lemmatize_stemming(text):\n",
    "    return stemmer.stem(WordNetLemmatizer().lemmatize(text, pos='v'))\n",
    "\n",
    "def preprocess(text):\n",
    "    result = []\n",
    "    for token in gensim.utils.simple_preprocess(text):\n",
    "        if token not in gensim.parsing.preprocessing.STOPWORDS and len(token) > 3:\n",
    "            result.append(lemmatize_stemming(token))\n",
    "    return result"
   ]
  },
  {
   "cell_type": "code",
   "execution_count": 207,
   "metadata": {},
   "outputs": [
    {
     "name": "stdout",
     "output_type": "stream",
     "text": [
      "original document: \n",
      "['As', 'a', 'family,', 'we', 'moved', 'from', 'Omaha', 'to', 'Ft.', 'Meade', '(2004),', 'Ft.', 'Meade', 'to', 'Ft.', 'Bragg', '(2007),', 'and', 'Ft.', 'Bragg', 'to', 'Joint', 'Base', 'San', 'Antonio', 'Randolph', '(2012)', '', '', 'Our', 'first', 'family', 'move,', 'my', 'kids', 'were', '2', 'yrs', 'old', 'and', '2', 'months', 'old;', 'respectively.', '', 'My', 'wife', 'and', 'I', 'were', '28.', '', '', '', 'For', 'the', 'first', 'move,', 'we', 'really', 'relied', 'on', 'sponsor', 'packages', 'and', 'any', 'material', 'we', 'could', 'find;', 'internet,', 'family', 'support', 'center,', 'etc.', '', 'We', 'purposely', 'stayed', 'on', 'base', 'because', 'we', 'had', 'no', 'idea', 'what', 'to', 'expect.', '', 'For', 'subsequent', 'moves,', 'the', 'internet', 'was', 'helpful,', 'but', 'we', 'also', 'relied', 'very', 'heavily', 'on', 'our', 'friend', 'networks', 'to', 'get', 'ground', 'truth', 'on', 'school', 'districts,', 'doctors,', 'neighborhoods,', 'commute', 'times,', 'etc.', '', 'We', 'never', 'relied', 'on', 'anything', 'branch', 'specific.', '', '', '', '', 'It', 'seems', 'as', 'though', 'it', 'was', 'very', 'difficult', 'for', 'Military', 'Spouses', 'to', 'make', 'close', 'relationships.', '', 'Very', 'caste', 'societal', \"(what's\", 'your', 'spouse', 'do?', '', 'lots', 'of', 'bona', 'fides', 'exchanged),', 'and', 'the', 'fear', 'of', 'moving', 'was', 'generally', 'guarded', 'against', 'becoming', 'to', 'close', 'to', 'anyone', 'outside', 'of', 'immediate', 'peers', 'or', 'neighbors.', '', 'Kids', 'seemed', 'pretty', 'adaptive;', 'it', 'really', 'becomes', 'their', 'normal.', '', '', '', 'We', 'used', 'the', 'housing', 'office', 'to', 'save', 'on', 'utility', 'start', 'up', 'costs.', '', 'And,', 'usually', 'the', 'child', 'development', 'centers', 'to', 'find', 'out', 'what', 'local', 'youth', 'services', 'were', 'around.', '', '', '', \"Didn't\", 'have', 'to', 'find', 'anything', 'new', 'mostly', 'because', 'they', \"weren't\", 'involved', 'in', 'anything', 'too', 'niche.', '', 'It', 'happened', 'pretty', 'quickly,', 'but', 'it', 'always', 'took', 'a', 'long', 'time', 'to', 'find', 'the', 'right', 'or', 'best', 'fit', 'for', 'the', 'kids', 'based', 'on', 'the', 'acticity', 'or', 'resources.', '', 'Finding', 'basketball', 'was', 'easy...finding', 'the', 'right', 'basketball', 'team,', 'location,', 'coach,', 'league,', 'etc....always', 'took', 'a', 'long', 'time', 'to', 'do', 'right', '', '', 'It', 'was', 'always', 'anxious', 'to', 'trade', 'in', 'a', 'known', 'for', 'an', 'unknown.', '', 'Always', 'worried', 'about', 'the', 'kids', 'getting', 'a', 'fair', 'shake', 'or', 'opportunity', 'to', 'be', 'included', 'in', 'band,', 'sports,', 'clubs,', 'etc....very', 'much', 'had', 'to', 'rely', 'on', 'fate', 'and', 'that', 'it', 'would', 'all', 'work', 'out', 'with', 'a', 'little', 'luck.', '', 'Where', 'to', 'live', 'and', 'finding', 'a', 'school', 'district', 'were', 'always', 'incredibly', 'frustrating', 'and', 'stressful,', 'so', 'was', 'finding', 'a', 'doctor.', '', '', '', 'Deployments', 'were', 'the', 'hardest.', '', 'Finding,', 'then', 'selling/buying', 'a', 'house', 'in', 'a', \"'good'\", 'school', 'district', 'was', 'usually', 'the', 'next', 'hardest.', '', 'And,', 'the', 'anxiousness', 'of', 'wondering', 'if', 'the', 'move', 'was', 'the', 'right', 'thing', 'for', 'the', 'kids....did', 'we', 'move', 'them', 'early?', '', 'did', 'we', 'give', 'them', 'the', 'right', 'opportunities', 'at', 'the', 'right', 'time?', 'did', 'we', 'take', 'something', 'from', 'them', 'early?', '', '', '', '', '-', 'base', 'or', 'school', 'really', 'depends', 'on', 'the', 'geography,', 'age', 'and', 'message', \"you're\", 'trying', 'to', 'hit....the', 'bases', 'should', 'have', 'sponsor', 'programs', '(receiving', 'sponsor', 'for', 'an', 'inbound', 'service', 'member/family)', 'but', 'they', 'are', 'very', 'personality', 'and', 'command', 'dependent.', '', 'Very', 'easy', 'to', 'fail,', 'very', 'time', 'consuming', 'and', 'invested', 'to', 'succeed.', 'Schools', 'can', 'be', 'a', 'great', 'inject', 'point,', 'some', 'have', 'Military', 'Family', 'Liaison', 'Counselors', 'or', 'established', 'programs....but', 'if', 'the', 'target', 'is', 'the', 'parents...they', 'often', 'times', \"don't\", 'rummage', 'through', 'back', 'packs', 'or', 'read', 'the', 'school', 'flyers/hand', 'outs.', '', '\\n-', 'knowing', 'someone', 'absolutely', 'expedited', 'settling', 'in', '', '']\n",
      "\n",
      "\n",
      " tokenized and lemmatized document: \n",
      "['famili', 'move', 'omaha', 'mead', 'mead', 'bragg', 'bragg', 'joint', 'base', 'antonio', 'randolph', 'famili', 'kid', 'month', 'respect', 'wife', 'reli', 'sponsor', 'packag', 'materi', 'internet', 'famili', 'support', 'center', 'purpos', 'stay', 'base', 'idea', 'expect', 'subsequ', 'move', 'internet', 'help', 'reli', 'heavili', 'friend', 'network', 'grind', 'truth', 'school', 'district', 'doctor', 'neighborhood', 'commut', 'time', 'reli', 'branch', 'specif', 'difficult', 'militari', 'spous', 'close', 'relationship', 'cast', 'societ', 'spous', 'lot', 'bona', 'fide', 'exchang', 'fear', 'move', 'general', 'guard', 'close', 'outsid', 'immedi', 'peer', 'neighbor', 'kid', 'pretti', 'adapt', 'normal', 'hous', 'offic', 'save', 'util', 'start', 'cost', 'usual', 'child', 'develop', 'center', 'local', 'youth', 'servic', 'weren', 'involv', 'nich', 'happen', 'pretti', 'quick', 'take', 'long', 'time', 'right', 'best', 'kid', 'base', 'actic', 'resourc', 'find', 'basketbal', 'easi', 'find', 'right', 'basketbal', 'team', 'locat', 'coach', 'leagu', 'take', 'long', 'time', 'right', 'anxious', 'trade', 'know', 'unknown', 'worri', 'kid', 'get', 'fair', 'shake', 'opportun', 'includ', 'band', 'sport', 'club', 'reli', 'fate', 'work', 'littl', 'luck', 'live', 'find', 'school', 'district', 'incred', 'frustrat', 'stress', 'find', 'doctor', 'deploy', 'hardest', 'find', 'sell', 'buy', 'hous', 'good', 'school', 'district', 'usual', 'hardest', 'anxious', 'wonder', 'right', 'thing', 'kid', 'earli', 'right', 'opportun', 'right', 'time', 'earli', 'base', 'school', 'depend', 'geographi', 'messag', 'tri', 'base', 'sponsor', 'program', 'receiv', 'sponsor', 'inbound', 'servic', 'member', 'famili', 'person', 'command', 'depend', 'easi', 'fail', 'time', 'consum', 'invest', 'succeed', 'school', 'great', 'inject', 'point', 'militari', 'famili', 'liaison', 'counselor', 'establish', 'program', 'target', 'parent', 'time', 'rummag', 'pack', 'read', 'school', 'flyer', 'hand', 'out', 'know', 'absolut', 'expedit', 'settl']\n"
     ]
    }
   ],
   "source": [
    "#testing preprocessing on a doc \n",
    "doc_sample = allText[0]\n",
    "print('original document: ')\n",
    "words = []\n",
    "for word in doc_sample.split(' '):\n",
    "    words.append(word)\n",
    "print(words)\n",
    "print('\\n\\n tokenized and lemmatized document: ')\n",
    "print(preprocess(doc_sample))"
   ]
  },
  {
   "cell_type": "markdown",
   "metadata": {},
   "source": [
    "Bag of Words: create a dictionary for the number of times a word appears"
   ]
  },
  {
   "cell_type": "code",
   "execution_count": 208,
   "metadata": {},
   "outputs": [],
   "source": [
    "dictionary = gensim.corpora.Dictionary(processed_docs)"
   ]
  },
  {
   "cell_type": "code",
   "execution_count": 209,
   "metadata": {},
   "outputs": [
    {
     "name": "stdout",
     "output_type": "stream",
     "text": [
      "0 academ\n",
      "1 actual\n",
      "2 anxieti\n",
      "3 area\n",
      "4 autist\n",
      "5 awar\n",
      "6 brother\n",
      "7 build\n",
      "8 care\n",
      "9 child\n",
      "10 china\n"
     ]
    }
   ],
   "source": [
    "count = 0 \n",
    "for k, v in dictionary.iteritems():\n",
    "    print(k,v)\n",
    "    count += 1\n",
    "    if count > 10: \n",
    "        break "
   ]
  },
  {
   "cell_type": "code",
   "execution_count": 210,
   "metadata": {},
   "outputs": [],
   "source": [
    "#gensim filter_extremes\n",
    "#filter parameters:\n",
    "no_below = 5  #absolute number\n",
    "no_above = 0.4 # fraction of total corpus size \n",
    "dictionary.filter_extremes(no_below, no_above, keep_n=100000)"
   ]
  },
  {
   "cell_type": "code",
   "execution_count": 211,
   "metadata": {},
   "outputs": [
    {
     "data": {
      "text/plain": [
       "[(4, 1),\n",
       " (37, 1),\n",
       " (40, 1),\n",
       " (43, 1),\n",
       " (51, 1),\n",
       " (52, 3),\n",
       " (58, 1),\n",
       " (65, 1),\n",
       " (66, 2),\n",
       " (68, 1),\n",
       " (73, 1),\n",
       " (76, 1),\n",
       " (79, 2),\n",
       " (80, 1),\n",
       " (83, 1),\n",
       " (85, 1),\n",
       " (86, 2),\n",
       " (93, 2),\n",
       " (104, 2),\n",
       " (107, 2),\n",
       " (110, 1),\n",
       " (127, 2),\n",
       " (139, 1),\n",
       " (140, 1),\n",
       " (146, 1),\n",
       " (150, 1),\n",
       " (156, 1),\n",
       " (158, 1),\n",
       " (167, 1),\n",
       " (182, 2),\n",
       " (187, 1),\n",
       " (195, 1),\n",
       " (197, 1),\n",
       " (205, 3),\n",
       " (234, 1),\n",
       " (235, 1),\n",
       " (236, 1),\n",
       " (255, 1),\n",
       " (264, 1),\n",
       " (267, 1),\n",
       " (276, 1),\n",
       " (283, 3),\n",
       " (284, 2),\n",
       " (287, 3),\n",
       " (294, 3),\n",
       " (307, 1),\n",
       " (311, 1),\n",
       " (316, 2),\n",
       " (323, 1),\n",
       " (333, 1),\n",
       " (350, 1),\n",
       " (365, 1),\n",
       " (386, 1)]"
      ]
     },
     "execution_count": 211,
     "metadata": {},
     "output_type": "execute_result"
    }
   ],
   "source": [
    "bow_corpus = [dictionary.doc2bow(doc) for doc in processed_docs]\n",
    "bow_corpus[23]"
   ]
  },
  {
   "cell_type": "code",
   "execution_count": 213,
   "metadata": {},
   "outputs": [
    {
     "data": {
      "text/plain": [
       "64"
      ]
     },
     "execution_count": 213,
     "metadata": {},
     "output_type": "execute_result"
    }
   ],
   "source": [
    "len(bow_corpus)"
   ]
  },
  {
   "cell_type": "code",
   "execution_count": 125,
   "metadata": {},
   "outputs": [
    {
     "name": "stdout",
     "output_type": "stream",
     "text": [
      "Word 4 (\"build\") appears 1 time.\n",
      "Word 37 (\"children\") appears 1 time.\n",
      "Word 40 (\"close\") appears 1 time.\n",
      "Word 43 (\"depend\") appears 1 time.\n",
      "Word 51 (\"idea\") appears 1 time.\n",
      "Word 52 (\"incom\") appears 3 time.\n",
      "Word 58 (\"offer\") appears 1 time.\n",
      "Word 65 (\"provid\") appears 1 time.\n",
      "Word 66 (\"question\") appears 2 time.\n",
      "Word 68 (\"relat\") appears 1 time.\n",
      "Word 73 (\"travel\") appears 1 time.\n",
      "Word 76 (\"wife\") appears 1 time.\n",
      "Word 79 (\"call\") appears 2 time.\n",
      "Word 80 (\"counselor\") appears 1 time.\n",
      "Word 83 (\"find\") appears 1 time.\n",
      "Word 85 (\"guidanc\") appears 1 time.\n",
      "Word 86 (\"issu\") appears 2 time.\n",
      "Word 93 (\"open\") appears 2 time.\n",
      "Word 104 (\"allen\") appears 2 time.\n",
      "Word 107 (\"booz\") appears 2 time.\n",
      "Word 110 (\"choos\") appears 1 time.\n",
      "Word 127 (\"right\") appears 2 time.\n",
      "Word 139 (\"convers\") appears 1 time.\n",
      "Word 140 (\"day\") appears 1 time.\n",
      "Word 146 (\"involv\") appears 1 time.\n",
      "Word 150 (\"month\") appears 1 time.\n",
      "Word 156 (\"similar\") appears 1 time.\n",
      "Word 158 (\"tell\") appears 1 time.\n",
      "Word 167 (\"address\") appears 1 time.\n",
      "Word 182 (\"district\") appears 2 time.\n",
      "Word 187 (\"figur\") appears 1 time.\n",
      "Word 195 (\"happen\") appears 1 time.\n",
      "Word 197 (\"inform\") appears 1 time.\n",
      "Word 205 (\"look\") appears 3 time.\n",
      "Word 234 (\"wasn\") appears 1 time.\n",
      "Word 235 (\"younger\") appears 1 time.\n",
      "Word 236 (\"arriv\") appears 1 time.\n",
      "Word 255 (\"project\") appears 1 time.\n",
      "Word 264 (\"typic\") appears 1 time.\n",
      "Word 267 (\"acknowledg\") appears 1 time.\n",
      "Word 276 (\"interact\") appears 1 time.\n",
      "Word 283 (\"schedul\") appears 3 time.\n",
      "Word 284 (\"tour\") appears 2 time.\n",
      "Word 287 (\"ambassador\") appears 3 time.\n",
      "Word 294 (\"advanc\") appears 3 time.\n",
      "Word 307 (\"link\") appears 1 time.\n",
      "Word 311 (\"play\") appears 1 time.\n",
      "Word 316 (\"regist\") appears 2 time.\n",
      "Word 323 (\"miss\") appears 1 time.\n",
      "Word 333 (\"one\") appears 1 time.\n",
      "Word 350 (\"opportun\") appears 1 time.\n",
      "Word 365 (\"ask\") appears 1 time.\n",
      "Word 386 (\"somewhat\") appears 1 time.\n"
     ]
    }
   ],
   "source": [
    "bow_doc_23 = bow_corpus[23]\n",
    "\n",
    "for i in range(len(bow_doc_23)):\n",
    "    print(\"Word {} (\\\"{}\\\") appears {} time.\".format(bow_doc_23[i][0], \n",
    "                                                     dictionary[bow_doc_23[i][0]], \n",
    "                                                     bow_doc_23[i][1]))"
   ]
  },
  {
   "cell_type": "markdown",
   "metadata": {},
   "source": [
    "Tf-idf model"
   ]
  },
  {
   "cell_type": "code",
   "execution_count": 126,
   "metadata": {},
   "outputs": [
    {
     "name": "stdout",
     "output_type": "stream",
     "text": [
      "[(0, 0.19404372710131615),\n",
      " (1, 0.19404372710131615),\n",
      " (2, 0.156207625816503),\n",
      " (3, 0.17322101797112616),\n",
      " (4, 0.19929175371604044),\n",
      " (5, 0.22088886818360837),\n",
      " (6, 0.09152638344939759),\n",
      " (7, 0.14182300771143277),\n",
      " (8, 0.22088886818360837),\n",
      " (9, 0.10853977560402078),\n",
      " (10, 0.14182300771143277),\n",
      " (11, 0.17322101797112616),\n",
      " (12, 0.14182300771143277),\n",
      " (13, 0.14182300771143277),\n",
      " (14, 0.19404372710131615),\n",
      " (15, 0.18305276689879518),\n",
      " (16, 0.312415251633006),\n",
      " (17, 0.09152638344939759),\n",
      " (18, 0.11837152453168984),\n",
      " (19, 0.09964587685802022),\n",
      " (20, 0.19404372710131615),\n",
      " (21, 0.12936248473421075),\n",
      " (22, 0.21707955120804157),\n",
      " (23, 0.19404372710131615),\n",
      " (24, 0.10853977560402078),\n",
      " (25, 0.10853977560402078),\n",
      " (26, 0.156207625816503),\n",
      " (27, 0.14182300771143277),\n",
      " (28, 0.17322101797112616),\n",
      " (29, 0.11837152453168984),\n",
      " (30, 0.17322101797112616),\n",
      " (31, 0.3464420359422523)]\n"
     ]
    }
   ],
   "source": [
    "from gensim import corpora, models \n",
    "\n",
    "tfidf = models.TfidfModel(bow_corpus)\n",
    "corpus_tfidf = tfidf[bow_corpus]\n",
    "\n",
    "from pprint import pprint \n",
    "\n",
    "for doc in corpus_tfidf: \n",
    "    pprint(doc)\n",
    "    break"
   ]
  },
  {
   "cell_type": "markdown",
   "metadata": {},
   "source": [
    "Running LDA with Bag of Words"
   ]
  },
  {
   "cell_type": "code",
   "execution_count": 127,
   "metadata": {},
   "outputs": [],
   "source": [
    "n = 5\n",
    "lda_model = gensim.models.LdaMulticore(bow_corpus, num_topics = n, \n",
    "                                       id2word=dictionary, passes=3, workers=2,\n",
    "                                      per_word_topics=True)"
   ]
  },
  {
   "cell_type": "markdown",
   "metadata": {},
   "source": [
    "Below are the identified topics from the data. I set the algorithm to choose the five most prevalent topics from all the interview text. You'll see that each  topic lists the word identified with each topic. The first topic, for instance, contains words like feel, understand, home, brother, and life. We can assume that this topic relates to Family and Emotion.  "
   ]
  },
  {
   "cell_type": "code",
   "execution_count": 128,
   "metadata": {},
   "outputs": [
    {
     "name": "stdout",
     "output_type": "stream",
     "text": [
      "Topic: 0 \n",
      "Words: 0.012*\"feel\" + 0.012*\"look\" + 0.011*\"understand\" + 0.011*\"home\" + 0.011*\"summer\" + 0.011*\"brother\" + 0.010*\"civilian\" + 0.009*\"daughter\" + 0.009*\"post\" + 0.009*\"life\"\n",
      "Topic: 1 \n",
      "Words: 0.021*\"armi\" + 0.019*\"train\" + 0.016*\"provid\" + 0.014*\"liaison\" + 0.013*\"transfer\" + 0.013*\"command\" + 0.013*\"state\" + 0.012*\"youth\" + 0.011*\"issu\" + 0.011*\"counti\"\n",
      "Topic: 2 \n",
      "Words: 0.021*\"right\" + 0.021*\"organ\" + 0.018*\"instal\" + 0.018*\"typic\" + 0.018*\"level\" + 0.016*\"guidanc\" + 0.015*\"command\" + 0.015*\"type\" + 0.015*\"look\" + 0.013*\"district\"\n",
      "Topic: 3 \n",
      "Words: 0.019*\"sponsor\" + 0.014*\"youth\" + 0.014*\"specif\" + 0.014*\"life\" + 0.012*\"packet\" + 0.012*\"anchor\" + 0.012*\"send\" + 0.012*\"reach\" + 0.011*\"train\" + 0.011*\"involv\"\n",
      "Topic: 4 \n",
      "Words: 0.016*\"navi\" + 0.014*\"older\" + 0.013*\"relationship\" + 0.012*\"network\" + 0.012*\"hard\" + 0.012*\"club\" + 0.012*\"involv\" + 0.011*\"diego\" + 0.011*\"middl\" + 0.010*\"build\"\n"
     ]
    }
   ],
   "source": [
    "for idx, topic in lda_model.print_topics(-1):\n",
    "    print('Topic: {} \\nWords: {}'.format(idx, topic))"
   ]
  },
  {
   "cell_type": "markdown",
   "metadata": {},
   "source": [
    "Topic 1: Family and emotion \n",
    "\n",
    "Topic 2: Military and command involvement in transitions\n",
    "\n",
    "Topic 3: School and organizational support \n",
    "\n",
    "Topic 4: Youth sponsorship and support \n",
    "\n",
    "Topic 5: Relationships and social networks "
   ]
  },
  {
   "cell_type": "markdown",
   "metadata": {},
   "source": [
    "LDAvis"
   ]
  },
  {
   "cell_type": "code",
   "execution_count": 157,
   "metadata": {},
   "outputs": [],
   "source": [
    "lda_model.save('iview_topics.model')"
   ]
  },
  {
   "cell_type": "code",
   "execution_count": 158,
   "metadata": {},
   "outputs": [],
   "source": [
    "lda = gensim.models.ldamodel.LdaModel.load('iview_topics.model')"
   ]
  },
  {
   "cell_type": "code",
   "execution_count": 132,
   "metadata": {},
   "outputs": [],
   "source": [
    "import pyLDAvis\n",
    "import pyLDAvis.gensim"
   ]
  },
  {
   "cell_type": "code",
   "execution_count": 163,
   "metadata": {},
   "outputs": [],
   "source": [
    "pyLDAvis.enable_notebook()"
   ]
  },
  {
   "cell_type": "code",
   "execution_count": 161,
   "metadata": {},
   "outputs": [
    {
     "name": "stderr",
     "output_type": "stream",
     "text": [
      "C:\\Users\\605665\\AppData\\Local\\Continuum\\anaconda3\\lib\\site-packages\\pyLDAvis\\_prepare.py:257: FutureWarning: Sorting because non-concatenation axis is not aligned. A future version\n",
      "of pandas will change to not sort by default.\n",
      "\n",
      "To accept the future behavior, pass 'sort=False'.\n",
      "\n",
      "To retain the current behavior and silence the warning, pass 'sort=True'.\n",
      "\n",
      "  return pd.concat([default_term_info] + list(topic_dfs))\n"
     ]
    }
   ],
   "source": [
    "vis_data = pyLDAvis.gensim.prepare(lda, bow_corpus, dictionary)"
   ]
  },
  {
   "cell_type": "markdown",
   "metadata": {},
   "source": [
    "Below you'll see the first of the visualizations for the topic modeling. Each bubble represents a different topic. The size of each bubble represents marginal topic distribution - that is, how much of the text falls into these topics. Overlap between topics means they share common words. 2 and 3 are similar topics because there's an overlap of terms.\n",
    "\n",
    "You should be able to mouse over each topic and see how different terms fall within them. If you go to the right and click on a word, it will show you how particular it is to a certain topic. This takes into account how often the term is grouped with that topic relative to the entire dataset of text. \n",
    "\n"
   ]
  },
  {
   "cell_type": "code",
   "execution_count": 162,
   "metadata": {},
   "outputs": [
    {
     "data": {
      "text/html": [
       "\n",
       "<link rel=\"stylesheet\" type=\"text/css\" href=\"https://cdn.rawgit.com/bmabey/pyLDAvis/files/ldavis.v1.0.0.css\">\n",
       "\n",
       "\n",
       "<div id=\"ldavis_el938014498228549848295288057\"></div>\n",
       "<script type=\"text/javascript\">\n",
       "\n",
       "var ldavis_el938014498228549848295288057_data = {\"mdsDat\": {\"x\": [0.004505851980926464, -0.05722500993015083, -0.06864753605502864, -0.013596593741401807, 0.13496328774565486], \"y\": [-0.06647732052332503, 0.0466620200872493, 0.06610807468914219, -0.09259399539324209, 0.04630122114017568], \"topics\": [1, 2, 3, 4, 5], \"cluster\": [1, 1, 1, 1, 1], \"Freq\": [26.840612411499023, 25.856246948242188, 19.62710952758789, 17.982097625732422, 9.693934440612793]}, \"tinfo\": {\"Category\": [\"Default\", \"Default\", \"Default\", \"Default\", \"Default\", \"Default\", \"Default\", \"Default\", \"Default\", \"Default\", \"Default\", \"Default\", \"Default\", \"Default\", \"Default\", \"Default\", \"Default\", \"Default\", \"Default\", \"Default\", \"Default\", \"Default\", \"Default\", \"Default\", \"Default\", \"Default\", \"Default\", \"Default\", \"Default\", \"Default\", \"Topic1\", \"Topic1\", \"Topic1\", \"Topic1\", \"Topic1\", \"Topic1\", \"Topic1\", \"Topic1\", \"Topic1\", \"Topic1\", \"Topic1\", \"Topic1\", \"Topic1\", \"Topic1\", \"Topic1\", \"Topic1\", \"Topic1\", \"Topic1\", \"Topic1\", \"Topic1\", \"Topic1\", \"Topic1\", \"Topic1\", \"Topic1\", \"Topic1\", \"Topic1\", \"Topic1\", \"Topic1\", \"Topic1\", \"Topic1\", \"Topic1\", \"Topic1\", \"Topic1\", \"Topic1\", \"Topic1\", \"Topic1\", \"Topic1\", \"Topic1\", \"Topic1\", \"Topic1\", \"Topic1\", \"Topic1\", \"Topic1\", \"Topic1\", \"Topic1\", \"Topic1\", \"Topic1\", \"Topic1\", \"Topic1\", \"Topic1\", \"Topic1\", \"Topic2\", \"Topic2\", \"Topic2\", \"Topic2\", \"Topic2\", \"Topic2\", \"Topic2\", \"Topic2\", \"Topic2\", \"Topic2\", \"Topic2\", \"Topic2\", \"Topic2\", \"Topic2\", \"Topic2\", \"Topic2\", \"Topic2\", \"Topic2\", \"Topic2\", \"Topic2\", \"Topic2\", \"Topic2\", \"Topic2\", \"Topic2\", \"Topic2\", \"Topic2\", \"Topic2\", \"Topic2\", \"Topic2\", \"Topic2\", \"Topic2\", \"Topic2\", \"Topic2\", \"Topic2\", \"Topic2\", \"Topic2\", \"Topic2\", \"Topic2\", \"Topic2\", \"Topic2\", \"Topic2\", \"Topic2\", \"Topic2\", \"Topic2\", \"Topic2\", \"Topic2\", \"Topic2\", \"Topic2\", \"Topic2\", \"Topic2\", \"Topic2\", \"Topic3\", \"Topic3\", \"Topic3\", \"Topic3\", \"Topic3\", \"Topic3\", \"Topic3\", \"Topic3\", \"Topic3\", \"Topic3\", \"Topic3\", \"Topic3\", \"Topic3\", \"Topic3\", \"Topic3\", \"Topic3\", \"Topic3\", \"Topic3\", \"Topic3\", \"Topic3\", \"Topic3\", \"Topic3\", \"Topic3\", \"Topic3\", \"Topic3\", \"Topic3\", \"Topic3\", \"Topic3\", \"Topic3\", \"Topic3\", \"Topic3\", \"Topic3\", \"Topic3\", \"Topic3\", \"Topic3\", \"Topic3\", \"Topic3\", \"Topic3\", \"Topic3\", \"Topic3\", \"Topic3\", \"Topic3\", \"Topic3\", \"Topic3\", \"Topic3\", \"Topic3\", \"Topic3\", \"Topic3\", \"Topic4\", \"Topic4\", \"Topic4\", \"Topic4\", \"Topic4\", \"Topic4\", \"Topic4\", \"Topic4\", \"Topic4\", \"Topic4\", \"Topic4\", \"Topic4\", \"Topic4\", \"Topic4\", \"Topic4\", \"Topic4\", \"Topic4\", \"Topic4\", \"Topic4\", \"Topic4\", \"Topic4\", \"Topic4\", \"Topic4\", \"Topic4\", \"Topic4\", \"Topic4\", \"Topic4\", \"Topic4\", \"Topic4\", \"Topic4\", \"Topic4\", \"Topic4\", \"Topic4\", \"Topic4\", \"Topic4\", \"Topic4\", \"Topic4\", \"Topic4\", \"Topic4\", \"Topic4\", \"Topic4\", \"Topic4\", \"Topic4\", \"Topic4\", \"Topic4\", \"Topic4\", \"Topic4\", \"Topic4\", \"Topic4\", \"Topic4\", \"Topic4\", \"Topic4\", \"Topic4\", \"Topic4\", \"Topic4\", \"Topic5\", \"Topic5\", \"Topic5\", \"Topic5\", \"Topic5\", \"Topic5\", \"Topic5\", \"Topic5\", \"Topic5\", \"Topic5\", \"Topic5\", \"Topic5\", \"Topic5\", \"Topic5\", \"Topic5\", \"Topic5\", \"Topic5\", \"Topic5\", \"Topic5\", \"Topic5\", \"Topic5\", \"Topic5\", \"Topic5\", \"Topic5\", \"Topic5\", \"Topic5\", \"Topic5\", \"Topic5\", \"Topic5\", \"Topic5\", \"Topic5\", \"Topic5\", \"Topic5\", \"Topic5\", \"Topic5\", \"Topic5\", \"Topic5\", \"Topic5\", \"Topic5\", \"Topic5\", \"Topic5\", \"Topic5\", \"Topic5\", \"Topic5\", \"Topic5\", \"Topic5\", \"Topic5\", \"Topic5\", \"Topic5\", \"Topic5\"], \"Freq\": [26.0, 22.0, 15.0, 20.0, 30.0, 17.0, 24.0, 38.0, 46.0, 43.0, 16.0, 26.0, 46.0, 15.0, 40.0, 50.0, 21.0, 33.0, 19.0, 34.0, 32.0, 22.0, 23.0, 19.0, 36.0, 13.0, 26.0, 22.0, 9.0, 34.0, 8.768004417419434, 6.84636116027832, 10.876500129699707, 9.444014549255371, 15.160252571105957, 20.745237350463867, 17.74333953857422, 6.146548271179199, 7.437213897705078, 7.307578086853027, 33.649539947509766, 7.1223626136779785, 19.777936935424805, 7.032912254333496, 7.008296489715576, 5.744157314300537, 10.721409797668457, 21.759925842285156, 8.984366416931152, 5.37351131439209, 8.955009460449219, 4.176718711853027, 7.631131172180176, 13.566822052001953, 8.630719184875488, 5.163334369659424, 7.506385326385498, 7.47091007232666, 7.294117450714111, 5.022576808929443, 24.883148193359375, 29.598600387573242, 10.737997055053711, 16.161582946777344, 15.90820598602295, 19.40183448791504, 18.026243209838867, 20.58486557006836, 15.70224666595459, 10.308443069458008, 15.950556755065918, 11.658876419067383, 11.49726676940918, 9.968488693237305, 13.380702018737793, 14.496387481689453, 15.013055801391602, 13.563128471374512, 11.132129669189453, 10.617855072021484, 10.26962661743164, 11.430054664611816, 12.857876777648926, 7.590453624725342, 5.831387042999268, 7.476256370544434, 5.675103664398193, 15.990530967712402, 11.322848320007324, 13.889749526977539, 10.461302757263184, 11.505077362060547, 7.3009843826293945, 16.437498092651367, 11.035759925842285, 5.864716053009033, 7.121483325958252, 5.79848575592041, 10.839208602905273, 7.009401321411133, 13.187179565429688, 7.945574760437012, 5.350764274597168, 17.100181579589844, 7.530195713043213, 4.026810646057129, 4.066906929016113, 4.028964042663574, 7.41535758972168, 4.000499248504639, 5.0609941482543945, 7.3001203536987305, 15.121566772460938, 18.87097930908203, 10.788344383239746, 12.883926391601562, 10.275359153747559, 16.6088809967041, 11.010103225708008, 11.599468231201172, 17.9811954498291, 11.391362190246582, 13.790404319763184, 12.746552467346191, 12.553238868713379, 11.663548469543457, 9.368738174438477, 14.02146053314209, 10.970880508422852, 10.393752098083496, 11.77773380279541, 10.4909086227417, 4.8148016929626465, 6.243093013763428, 10.02120304107666, 8.5481538772583, 13.836191177368164, 8.565277099609375, 6.882480144500732, 5.504251480102539, 12.98039722442627, 11.361210823059082, 3.6749861240386963, 9.083796501159668, 3.707397699356079, 10.081474304199219, 11.1026611328125, 6.75654935836792, 3.711695671081543, 7.538440704345703, 6.483669281005859, 6.576274871826172, 7.407360076904297, 6.447031497955322, 4.44579553604126, 4.278440952301025, 9.908929824829102, 3.2264671325683594, 10.56365966796875, 6.701580047607422, 4.975186824798584, 3.2099204063415527, 14.987460136413574, 17.978679656982422, 16.116374969482422, 14.389260292053223, 11.569605827331543, 12.304044723510742, 13.64404582977295, 9.030341148376465, 14.137370109558105, 10.480088233947754, 11.507875442504883, 10.002181053161621, 10.140198707580566, 8.992860794067383, 9.436988830566406, 9.12761402130127, 9.392971992492676, 8.32155704498291, 12.913484573364258, 12.678496360778809, 8.883674621582031, 9.323792457580566, 5.535953998565674, 5.116812229156494, 9.663866996765137, 3.8203630447387695, 3.8138413429260254, 3.7603201866149902, 12.645593643188477, 3.713956356048584, 5.529177188873291, 4.495301246643066, 5.5453057289123535, 7.385966777801514, 20.36343002319336, 5.297337055206299, 8.89744758605957, 11.644087791442871, 3.2386858463287354, 3.263399362564087, 3.216963052749634, 3.8947930335998535, 3.8760268688201904, 5.638372898101807, 3.8958139419555664, 3.9094769954681396, 3.732956886291504, 3.739633321762085, 8.876884460449219, 10.990853309631348, 14.660019874572754, 14.834656715393066, 15.064007759094238, 7.624472141265869, 9.545037269592285, 11.503110885620117, 5.837993144989014, 12.259215354919434, 8.591423988342285, 11.644501686096191, 8.439228057861328, 8.691278457641602, 7.563448905944824, 11.483447074890137, 11.802882194519043, 9.767219543457031, 9.417773246765137, 7.8217244148254395, 9.498185157775879, 9.576107025146484, 8.698221206665039, 7.919116497039795, 7.858748435974121, 10.143542289733887, 11.806229591369629, 5.2582268714904785, 5.160164833068848, 5.127183437347412, 10.210326194763184, 8.528623580932617, 11.80212116241455, 3.4719345569610596, 5.121313095092773, 5.078164577484131, 3.534158229827881, 3.449643611907959, 3.519561767578125, 3.502218723297119, 3.4933907985687256, 10.096518516540527, 5.278683662414551, 8.851539611816406, 6.79346227645874, 3.612273693084717, 3.5707664489746094, 3.567897319793701, 3.5043513774871826, 1.8703168630599976, 1.8640494346618652, 1.862334132194519, 3.545060634613037, 1.8474336862564087, 1.85387122631073, 5.107764720916748, 6.886961936950684, 5.19312047958374, 3.5825090408325195, 3.5812554359436035, 6.771917343139648, 8.631081581115723, 8.527450561523438, 6.964461326599121, 7.157657623291016, 5.253334045410156, 5.428530216217041, 5.494233131408691, 5.292458534240723, 3.7406086921691895, 3.623286485671997, 3.729353189468384, 3.9460346698760986, 3.860215187072754, 3.7569549083709717], \"Term\": [\"organ\", \"right\", \"typic\", \"instal\", \"level\", \"type\", \"slos\", \"youth\", \"armi\", \"command\", \"packet\", \"guidanc\", \"look\", \"anchor\", \"sponsor\", \"train\", \"idea\", \"life\", \"club\", \"network\", \"liaison\", \"send\", \"make\", \"peer\", \"reach\", \"incom\", \"ambassador\", \"counti\", \"happen\", \"older\", \"credit\", \"safeti\", \"plan\", \"fund\", \"fairfax\", \"transfer\", \"counti\", \"includ\", \"interview\", \"norfolk\", \"armi\", \"separ\", \"state\", \"practic\", \"encourag\", \"design\", \"itali\", \"liaison\", \"implement\", \"nova\", \"attend\", \"kansa\", \"opportun\", \"florida\", \"princip\", \"promot\", \"common\", \"instanc\", \"project\", \"appli\", \"provid\", \"train\", \"belvoir\", \"children\", \"info\", \"youth\", \"issu\", \"command\", \"unit\", \"elementari\", \"child\", \"hawaii\", \"offic\", \"virginia\", \"month\", \"servic\", \"district\", \"daughter\", \"depend\", \"ambassador\", \"usual\", \"germani\", \"father\", \"grind\", \"california\", \"singl\", \"apart\", \"brother\", \"lose\", \"post\", \"brat\", \"bulli\", \"graduat\", \"summer\", \"hang\", \"associ\", \"rule\", \"hand\", \"assign\", \"easi\", \"felt\", \"initi\", \"part\", \"understand\", \"sens\", \"stem\", \"hardest\", \"english\", \"environ\", \"certain\", \"drive\", \"long\", \"civilian\", \"feel\", \"fort\", \"privat\", \"neighborhood\", \"home\", \"challeng\", \"abl\", \"look\", \"better\", \"life\", \"littl\", \"probabl\", \"welcom\", \"cultur\", \"daughter\", \"local\", \"join\", \"hard\", \"counselor\", \"fulli\", \"term\", \"week\", \"anxieti\", \"club\", \"keep\", \"read\", \"mental\", \"diego\", \"peer\", \"speak\", \"facebook\", \"formal\", \"kind\", \"mayb\", \"teach\", \"correct\", \"introduc\", \"girl\", \"rememb\", \"team\", \"grow\", \"weren\", \"wish\", \"curriculum\", \"cop\", \"educ\", \"touch\", \"order\", \"follow\", \"relationship\", \"navi\", \"older\", \"network\", \"build\", \"middl\", \"involv\", \"harder\", \"hard\", \"littl\", \"daughter\", \"learn\", \"month\", \"easier\", \"specif\", \"home\", \"servic\", \"probabl\", \"packet\", \"anchor\", \"choic\", \"island\", \"basic\", \"allow\", \"buddi\", \"sponsorship\", \"expens\", \"scholarship\", \"send\", \"uniqu\", \"develop\", \"eas\", \"push\", \"actual\", \"sponsor\", \"outgo\", \"lunch\", \"make\", \"explain\", \"goodby\", \"pair\", \"hear\", \"websit\", \"letter\", \"general\", \"adapt\", \"spend\", \"resili\", \"give\", \"slos\", \"life\", \"specif\", \"youth\", \"form\", \"hawaii\", \"inform\", \"incom\", \"reach\", \"tell\", \"involv\", \"spous\", \"contact\", \"educ\", \"look\", \"train\", \"hard\", \"child\", \"offic\", \"servic\", \"district\", \"home\", \"ambassador\", \"nice\", \"typic\", \"right\", \"effort\", \"happen\", \"schedul\", \"instal\", \"type\", \"organ\", \"allen\", \"advanc\", \"incom\", \"higher\", \"avail\", \"senior\", \"situat\", \"booz\", \"level\", \"direct\", \"guidanc\", \"idea\", \"star\", \"see\", \"open\", \"project\", \"previous\", \"quarter\", \"day\", \"letter\", \"carolina\", \"pcsing\", \"interact\", \"slos\", \"great\", \"implement\", \"arriv\", \"locat\", \"command\", \"look\", \"reach\", \"district\", \"ambassador\", \"counselor\", \"network\", \"issu\", \"question\", \"retir\", \"call\", \"train\", \"daughter\", \"provid\"], \"Total\": [26.0, 22.0, 15.0, 20.0, 30.0, 17.0, 24.0, 38.0, 46.0, 43.0, 16.0, 26.0, 46.0, 15.0, 40.0, 50.0, 21.0, 33.0, 19.0, 34.0, 32.0, 22.0, 23.0, 19.0, 36.0, 13.0, 26.0, 22.0, 9.0, 34.0, 10.013900756835938, 8.192407608032227, 13.680276870727539, 11.944306373596191, 19.19482421875, 26.49696159362793, 22.689970016479492, 8.273770332336426, 10.048958778381348, 10.018010139465332, 46.71766662597656, 10.034269332885742, 28.36858367919922, 10.088302612304688, 10.099703788757324, 8.330886840820312, 15.680228233337402, 32.03623580932617, 13.542686462402344, 8.224356651306152, 13.854626655578613, 6.515378952026367, 11.929471015930176, 21.318071365356445, 13.792485237121582, 8.270219802856445, 12.058740615844727, 12.005561828613281, 11.739137649536133, 8.224085807800293, 41.187191009521484, 50.49871063232422, 17.830251693725586, 28.581043243408203, 28.60416603088379, 38.00153350830078, 35.87230682373047, 43.29793930053711, 34.52227783203125, 19.336214065551758, 40.107173919677734, 25.05605697631836, 24.995059967041016, 19.384428024291992, 36.46662521362305, 43.87821960449219, 47.46847915649414, 44.12953567504883, 28.65595817565918, 26.551677703857422, 23.513460159301758, 12.946267127990723, 14.901885986328125, 8.929198265075684, 6.9409098625183105, 8.924555778503418, 6.925069808959961, 20.69348907470703, 14.749430656433105, 18.693586349487305, 14.656338691711426, 16.72325325012207, 10.738895416259766, 24.322385787963867, 16.52812957763672, 8.8286771774292, 10.774977684020996, 8.824828147888184, 16.50693130493164, 10.722482681274414, 20.457950592041016, 12.666043281555176, 8.7440185546875, 28.07792854309082, 12.512948036193848, 6.758446216583252, 6.832891464233398, 6.786728382110596, 12.534581184387207, 6.820550918579102, 8.638994216918945, 12.56026554107666, 27.880033493041992, 35.64084243774414, 20.117565155029297, 25.888355255126953, 20.112133026123047, 37.51031494140625, 22.040691375732422, 23.93994903564453, 46.52607727050781, 23.87847137451172, 33.66493225097656, 29.568758010864258, 29.415719985961914, 27.62091827392578, 18.312252044677734, 44.12953567504883, 29.428661346435547, 25.70494270324707, 40.68779754638672, 32.8800163269043, 6.449754238128662, 8.388381958007812, 13.878952980041504, 12.005270004272461, 19.4813232421875, 12.145920753479004, 10.084561347961426, 8.274385452270508, 21.245216369628906, 19.2493896484375, 6.392364501953125, 15.819272994995117, 6.5070905685424805, 17.767589569091797, 19.645845413208008, 11.9994535446167, 6.622379779815674, 13.912806510925293, 12.137381553649902, 12.330819129943848, 13.994815826416016, 12.31328296661377, 8.558404922485352, 8.382458686828613, 19.710241317749023, 6.502352714538574, 21.415802001953125, 13.78291130065918, 10.233642578125, 6.61753511428833, 30.9523868560791, 38.50855255126953, 34.848907470703125, 34.759742736816406, 28.921886444091797, 32.821590423583984, 37.9946403503418, 21.70069694519043, 40.68779754638672, 29.568758010864258, 44.12953567504883, 32.83969497680664, 36.46662521362305, 27.28168296813965, 36.25749206542969, 37.51031494140625, 43.87821960449219, 29.415719985961914, 16.160900115966797, 15.975912094116211, 12.40412712097168, 14.16431713104248, 8.4434232711792, 8.420467376708984, 16.03054428100586, 6.527064323425293, 6.52816104888916, 6.488173484802246, 22.006305694580078, 6.488913536071777, 10.237882614135742, 8.383993148803711, 10.606464385986328, 14.131636619567871, 40.773494720458984, 10.628575325012207, 17.93815040588379, 23.71714973449707, 6.602110385894775, 6.714179992675781, 6.6677093505859375, 8.300436973571777, 8.33771800994873, 12.160362243652344, 8.490803718566895, 8.54486083984375, 8.305331230163574, 8.345414161682129, 19.835887908935547, 24.826396942138672, 33.66493225097656, 36.25749206542969, 38.00153350830078, 17.805116653442383, 25.05605697631836, 32.696773529052734, 13.923324584960938, 36.351253509521484, 23.217065811157227, 37.9946403503418, 23.56884765625, 25.30259132385254, 21.415802001953125, 46.52607727050781, 50.49871063232422, 40.68779754638672, 40.107173919677734, 24.995059967041016, 43.87821960449219, 47.46847915649414, 37.51031494140625, 26.551677703857422, 25.343793869018555, 15.205240249633789, 22.71454620361328, 10.126762390136719, 9.938362121582031, 10.071809768676758, 20.880157470703125, 17.460342407226562, 26.343969345092773, 8.454668045043945, 13.929844856262207, 13.923324584960938, 10.098516464233398, 10.151329040527344, 10.382153511047363, 10.344383239746094, 10.369461059570312, 30.103084564208984, 15.767016410827637, 26.96609878540039, 21.133281707763672, 11.789266586303711, 11.857621192932129, 11.920804977416992, 11.739137649536133, 6.333820819854736, 6.336220741271973, 6.386067867279053, 12.160362243652344, 6.340343952178955, 6.380453586578369, 17.623767852783203, 24.826396942138672, 19.58701515197754, 13.542686462402344, 13.837366104125977, 30.709726333618164, 43.29793930053711, 46.52607727050781, 36.351253509521484, 47.46847915649414, 26.551677703857422, 32.8800163269043, 34.759742736816406, 35.87230682373047, 19.766651153564453, 14.0477876663208, 21.5723819732666, 50.49871063232422, 44.12953567504883, 41.187191009521484], \"loglift\": [30.0, 29.0, 28.0, 27.0, 26.0, 25.0, 24.0, 23.0, 22.0, 21.0, 20.0, 19.0, 18.0, 17.0, 16.0, 15.0, 14.0, 13.0, 12.0, 11.0, 10.0, 9.0, 8.0, 7.0, 6.0, 5.0, 4.0, 3.0, 2.0, 1.0, 1.1823999881744385, 1.1358000040054321, 1.0858999490737915, 1.080399990081787, 1.079300045967102, 1.0705000162124634, 1.0693000555038452, 1.0181000232696533, 1.014299988746643, 0.9998000264167786, 0.9871000051498413, 0.9725000262260437, 0.9545000195503235, 0.9545000195503235, 0.9498000144958496, 0.9434999823570251, 0.9351000189781189, 0.9284999966621399, 0.9049000144004822, 0.8895999789237976, 0.8787999749183655, 0.8705999851226807, 0.8684999942779541, 0.8633000254631042, 0.8464999794960022, 0.8442000150680542, 0.8411999940872192, 0.8409000039100647, 0.8393999934196472, 0.8220999836921692, 0.8112999796867371, 0.781000018119812, 0.8080999851226807, 0.7451000213623047, 0.7285000085830688, 0.6430000066757202, 0.6270999908447266, 0.5716999769210815, 0.5274999737739563, 0.6862000226974487, 0.39320001006126404, 0.5501999855041504, 0.5386999845504761, 0.6502000093460083, 0.3127000033855438, 0.2076999992132187, 0.16410000622272491, 0.1354999989271164, 0.36970001459121704, 0.3986999988555908, 0.4869000017642975, 1.2280999422073364, 1.2051000595092773, 1.1901999711990356, 1.1784000396728516, 1.1755000352859497, 1.1535999774932861, 1.0947999954223633, 1.0881999731063843, 1.0556000471115112, 1.0154000520706177, 0.978600025177002, 0.9667999744415283, 0.9607999920845032, 0.9487000107765198, 0.9435999989509583, 0.9384999871253967, 0.9326000213623047, 0.9319999814033508, 0.9275000095367432, 0.9135000109672546, 0.8863000273704529, 0.8615000247955322, 0.8567000031471252, 0.8447999954223633, 0.8348000049591064, 0.8338000178337097, 0.8312000036239624, 0.8277000188827515, 0.819100022315979, 0.8179000020027161, 0.8100000023841858, 0.7408000230789185, 0.7167999744415283, 0.7294999957084656, 0.6547999978065491, 0.6809999942779541, 0.5378999710083008, 0.6585000157356262, 0.628000020980835, 0.4018999934196472, 0.612500011920929, 0.460099995136261, 0.5112000107765198, 0.5011000037193298, 0.49050000309944153, 0.6823999881744385, 0.2061000019311905, 0.3659000098705292, 0.4471000134944916, 0.11289999634027481, 0.2102999985218048, 1.3358999490737915, 1.332900047302246, 1.3026000261306763, 1.288599967956543, 1.2861000299453735, 1.2790000438690186, 1.2461999654769897, 1.2206000089645386, 1.135599970817566, 1.1009999513626099, 1.0746999979019165, 1.0735000371932983, 1.0657000541687012, 1.0615999698638916, 1.0576000213623047, 1.0539000034332275, 1.049299955368042, 1.0154999494552612, 1.0012999773025513, 0.9995999932289124, 0.9919999837875366, 0.9811999797821045, 0.9732999801635742, 0.9556999802589417, 0.9405999779701233, 0.9275000095367432, 0.921500027179718, 0.9071999788284302, 0.9070000052452087, 0.9047999978065491, 0.902999997138977, 0.866599977016449, 0.8571000099182129, 0.7462999820709229, 0.7120000123977661, 0.6470999717712402, 0.6040999889373779, 0.7515000104904175, 0.5712000131607056, 0.5910000205039978, 0.2842000126838684, 0.43939998745918274, 0.3483999967575073, 0.5184999704360962, 0.28220000863075256, 0.21490000188350677, 0.0868000015616417, 0.36559998989105225, 1.4915000200271606, 1.4845999479293823, 1.3819999694824219, 1.2976000308990479, 1.2936999797821045, 1.2177000045776367, 1.2096999883651733, 1.1801999807357788, 1.1783000230789185, 1.170300006866455, 1.1618000268936157, 1.1577999591827393, 1.0996999740600586, 1.0924999713897705, 1.0672999620437622, 1.0670000314712524, 1.0214999914169312, 1.0195000171661377, 1.0146000385284424, 1.0044000148773193, 1.003600001335144, 0.9943000078201294, 0.9869999885559082, 0.9591000080108643, 0.9498000144958496, 0.9472000002861023, 0.9366999864578247, 0.933899998664856, 0.916100025177002, 0.913100004196167, 0.9118000268936157, 0.9009000062942505, 0.8845000267028809, 0.8220999836921692, 0.7904999852180481, 0.8676999807357788, 0.7506999969482422, 0.6711000204086304, 0.8465999960899353, 0.6287999749183655, 0.7217000126838684, 0.5332000255584717, 0.6887999773025513, 0.6471999883651733, 0.675000011920929, 0.3167000114917755, 0.2621999979019165, 0.2888999879360199, 0.2667999863624573, 0.5540000200271606, 0.18549999594688416, 0.11500000208616257, 0.25429999828338623, 0.5059999823570251, 0.5449000000953674, 1.9289000034332275, 1.6792999505996704, 1.6783000230789185, 1.6782000064849854, 1.6584999561309814, 1.618299961090088, 1.6172000169754028, 1.5306999683380127, 1.4436999559402466, 1.3329999446868896, 1.3250999450683594, 1.2838000059127808, 1.2542999982833862, 1.2518999576568604, 1.250599980354309, 1.2457000017166138, 1.2411999702453613, 1.239400029182434, 1.2196999788284302, 1.198799967765808, 1.1507999897003174, 1.1334999799728394, 1.1274000406265259, 1.1246999502182007, 1.1138999462127686, 1.1101000308990479, 1.1014000177383423, 1.1009999513626099, 1.1004999876022339, 1.0976999998092651, 1.0951999425888062, 1.0513999462127686, 1.006100058555603, 1.0039000511169434, 0.9819999933242798, 0.8219000101089478, 0.7208999991416931, 0.636900007724762, 0.6812999844551086, 0.44179999828338623, 0.7134000062942505, 0.5325000286102295, 0.48890000581741333, 0.41999998688697815, 0.6689000129699707, 0.978600025177002, 0.578499972820282, -0.21559999883174896, -0.10270000249147415, -0.06080000102519989], \"logprob\": [30.0, 29.0, 28.0, 27.0, 26.0, 25.0, 24.0, 23.0, 22.0, 21.0, 20.0, 19.0, 18.0, 17.0, 16.0, 15.0, 14.0, 13.0, 12.0, 11.0, 10.0, 9.0, 8.0, 7.0, 6.0, 5.0, 4.0, 3.0, 2.0, 1.0, -5.190899848937988, -5.438300132751465, -4.975399971008301, -5.116600036621094, -4.6433000564575195, -4.329699993133545, -4.486000061035156, -5.54610013961792, -5.355500221252441, -5.3730998039245605, -3.8459999561309814, -5.398799896240234, -4.377399921417236, -5.411399841308594, -5.414899826049805, -5.613800048828125, -4.989799976348877, -4.281899929046631, -5.166500091552734, -5.680500030517578, -5.1697998046875, -5.932499885559082, -5.329800128936768, -4.75439977645874, -5.206699848175049, -5.720399856567383, -5.34630012512207, -5.35099983215332, -5.374899864196777, -5.7480998039245605, -4.147799968719482, -3.974299907684326, -4.9882001876831055, -4.579400062561035, -4.595200061798096, -4.396599769592285, -4.470200061798096, -4.337500095367432, -4.6082000732421875, -5.029099941253662, -4.59250020980835, -4.905900001525879, -4.919899940490723, -5.062600135803223, -4.768199920654297, -4.6880998611450195, -4.65310001373291, -4.754700183868408, -4.952199935913086, -4.999499797821045, -5.032800197601318, -4.888400077819824, -4.770699977874756, -5.297800064086914, -5.561399936676025, -5.312900066375732, -5.588600158691406, -4.552700042724609, -4.897799968719482, -4.69350004196167, -4.9770002365112305, -4.881899833679199, -5.336599826812744, -4.525100231170654, -4.923500061035156, -5.555699825286865, -5.361499786376953, -5.5671000480651855, -4.941500186920166, -5.377399921417236, -4.7453999519348145, -5.251999855041504, -5.64739990234375, -4.485599994659424, -5.305699825286865, -5.931700229644775, -5.921800136566162, -5.931099891662598, -5.321100234985352, -5.938199996948242, -5.703100204467773, -5.3368000984191895, -4.608500003814697, -4.38700008392334, -4.946199893951416, -4.768700122833252, -4.994900226593018, -4.514699935913086, -4.92579984664917, -4.873700141906738, -4.435299873352051, -4.8917999267578125, -4.700699806213379, -4.779399871826172, -4.7947001457214355, -4.868199825286865, -5.087299823760986, -4.684100151062012, -4.9293999671936035, -4.983399868011475, -4.858399868011475, -4.974100112915039, -5.47730016708374, -5.21750020980835, -4.74429988861084, -4.903299808502197, -4.4217000007629395, -4.901299953460693, -5.119999885559082, -5.343500137329102, -4.485599994659424, -4.618800163269043, -5.747499942779541, -4.84250020980835, -5.738699913024902, -4.73829984664917, -4.6417999267578125, -5.138500213623047, -5.737500190734863, -5.0289998054504395, -5.179699897766113, -5.165500164031982, -5.046500205993652, -5.185400009155273, -5.55709981918335, -5.595399856567383, -4.7555999755859375, -5.877600193023682, -4.6915998458862305, -5.146699905395508, -5.444499969482422, -5.882800102233887, -4.341800212860107, -4.159800052642822, -4.269199848175049, -4.382500171661377, -4.600599765777588, -4.539100170135498, -4.435699939727783, -4.848400115966797, -4.400199890136719, -4.69950008392334, -4.605999946594238, -4.746200084686279, -4.732500076293945, -4.85260009765625, -4.8043999671936035, -4.837699890136719, -4.809000015258789, -4.930200099945068, -4.403200149536133, -4.421599864959717, -4.777299880981445, -4.728899955749512, -5.250199794769287, -5.32889986038208, -4.6930999755859375, -5.621099948883057, -5.622799873352051, -5.63700008392334, -4.424200057983398, -5.649400234222412, -5.251399993896484, -5.458399772644043, -5.248499870300293, -4.961900234222412, -3.947700023651123, -5.294300079345703, -4.775700092315674, -4.506700038909912, -5.786300182342529, -5.77869987487793, -5.793000221252441, -5.601799964904785, -5.6066999435424805, -5.231900215148926, -5.601600170135498, -5.598100185394287, -5.6442999839782715, -5.642499923706055, -4.7779998779296875, -4.5644001960754395, -4.276400089263916, -4.264500141143799, -4.249199867248535, -4.930099964141846, -4.70550012588501, -4.518899917602539, -5.1971001625061035, -4.4552001953125, -4.810699939727783, -4.5065999031066895, -4.82859992980957, -4.799200057983398, -4.9380998611450195, -4.520599842071533, -4.493100166320801, -4.682400226593018, -4.718900203704834, -4.904600143432617, -4.710400104522705, -4.702199935913086, -4.798399925231934, -4.892199993133545, -4.899799823760986, -4.026800155639648, -3.875, -4.683800220489502, -4.702600002288818, -4.709000110626221, -4.020199775695801, -4.200200080871582, -3.8752999305725098, -5.098899841308594, -4.71019983291626, -4.718599796295166, -5.081099987030029, -5.105299949645996, -5.085299968719482, -5.090199947357178, -5.092700004577637, -4.031400203704834, -4.679900169372559, -4.163000106811523, -4.427599906921387, -5.059299945831299, -5.070799827575684, -5.071599960327148, -5.089600086212158, -5.71750020980835, -5.720799922943115, -5.721799850463867, -5.078000068664551, -5.729800224304199, -5.72629976272583, -4.712800025939941, -4.414000034332275, -4.696300029754639, -5.067500114440918, -5.06790018081665, -4.430799961090088, -4.188199996948242, -4.200300216674805, -4.4028000831604, -4.375400066375732, -4.684700012207031, -4.651899814605713, -4.639900207519531, -4.677299976348877, -5.024400234222412, -5.05620002746582, -5.027400016784668, -4.970900058746338, -4.9928998947143555, -5.019999980926514]}, \"token.table\": {\"Topic\": [1, 2, 3, 4, 5, 2, 3, 4, 1, 2, 3, 4, 1, 2, 3, 4, 5, 1, 2, 5, 1, 2, 4, 1, 2, 3, 4, 5, 1, 2, 3, 4, 1, 2, 3, 2, 1, 3, 1, 2, 3, 4, 5, 1, 2, 3, 4, 5, 1, 2, 3, 2, 4, 1, 2, 3, 1, 2, 3, 5, 3, 4, 1, 2, 1, 2, 3, 1, 2, 3, 5, 1, 2, 1, 2, 3, 1, 2, 3, 4, 1, 2, 3, 4, 5, 2, 4, 2, 1, 2, 3, 4, 5, 1, 5, 2, 4, 1, 2, 4, 1, 2, 3, 4, 5, 1, 2, 3, 4, 5, 2, 4, 1, 2, 3, 4, 1, 2, 3, 5, 1, 2, 3, 4, 5, 1, 2, 3, 1, 2, 3, 4, 1, 3, 4, 2, 3, 1, 2, 3, 4, 5, 1, 2, 3, 5, 1, 1, 2, 3, 4, 1, 2, 3, 4, 1, 2, 3, 4, 5, 1, 3, 4, 5, 1, 2, 3, 4, 5, 1, 2, 1, 4, 1, 2, 3, 4, 2, 3, 4, 5, 1, 2, 3, 4, 5, 1, 2, 3, 5, 1, 3, 4, 1, 2, 3, 1, 2, 3, 4, 1, 2, 3, 4, 1, 2, 3, 5, 1, 2, 3, 4, 1, 2, 4, 2, 3, 1, 2, 1, 4, 2, 3, 4, 1, 2, 3, 4, 1, 2, 3, 1, 2, 3, 1, 2, 3, 4, 1, 2, 3, 1, 2, 3, 4, 1, 2, 3, 1, 2, 3, 4, 3, 4, 1, 2, 1, 3, 1, 2, 2, 3, 4, 1, 2, 1, 2, 3, 5, 1, 2, 3, 4, 2, 3, 4, 1, 2, 3, 1, 2, 3, 5, 2, 1, 2, 3, 1, 2, 3, 4, 5, 2, 4, 1, 2, 3, 5, 1, 2, 3, 4, 5, 1, 2, 3, 4, 5, 2, 4, 1, 2, 3, 4, 1, 4, 5, 1, 2, 3, 5, 1, 2, 3, 4, 1, 2, 3, 4, 5, 1, 5, 1, 2, 3, 2, 3, 4, 5, 1, 2, 3, 4, 5, 1, 2, 3, 4, 5, 1, 2, 4, 1, 2, 3, 4, 5, 1, 2, 3, 1, 2, 3, 4, 5, 1, 2, 3, 1, 2, 3, 4, 1, 2, 3, 4, 5, 1, 2, 3, 4, 1, 2, 3, 4, 5, 1, 2, 3, 1, 2, 3, 4, 1, 2, 1, 2, 3, 1, 2, 3, 4, 1, 2, 3, 4, 5, 2, 4, 5, 1, 2, 3, 4, 5, 1, 2, 3, 4, 5, 1, 2, 3, 4, 5, 1, 2, 3, 4, 1, 2, 3, 4, 1, 2, 3, 4, 5, 1, 2, 3, 1, 2, 3, 4, 5, 1, 2, 3, 1, 2, 3, 4, 1, 2, 3, 4, 5, 1, 2, 3, 4, 1, 3, 1, 2, 3, 4, 5, 1, 2, 3, 4, 5, 1, 2, 3, 4, 1, 2, 3, 4, 5, 1, 2, 3, 4, 5, 1, 2, 3, 4, 5, 1, 3, 1, 3, 1, 2, 3, 4, 5, 1, 2, 3, 4, 5, 1, 3, 4, 5, 1, 2, 5, 1, 2, 3, 5, 1, 2, 3, 5, 2, 4, 2, 3, 4, 2, 3, 4, 2, 3, 1, 3, 4, 5, 1, 3, 4, 5, 1, 3, 4, 1, 2, 4, 1, 4, 1, 5, 1, 3, 4, 1, 2, 3, 4, 5, 1, 2, 3, 5, 1, 5, 1, 3, 4, 1, 2, 3, 4, 5, 2, 4, 1, 5, 2, 3, 4, 5, 1, 2, 3, 4, 5, 1, 3, 5, 1, 2, 3, 4, 1, 2, 3, 1, 4, 1, 2, 3, 5, 1, 2, 3, 4, 5, 2, 3, 4, 1, 3, 1, 2, 5, 4, 5, 1, 2, 3, 4, 5, 1, 2, 3, 4, 1, 2, 4, 5, 1, 2, 3, 5, 1, 3, 1, 2, 3, 4, 5, 2, 3, 2, 3, 5, 1, 2, 3, 4, 5, 3, 5, 1, 2, 3, 4, 5, 1, 4, 5, 1, 2, 3, 4, 5, 1, 4, 1, 2, 3, 4, 5, 1, 2, 3, 5, 1, 2, 3, 4, 1, 2, 1, 2, 3, 5, 1, 3, 4, 1, 2, 3, 4, 1, 2, 3, 4, 5, 2, 3, 1, 3, 4, 5, 1, 2, 3, 4, 5, 1, 2, 3, 4, 1, 2, 3, 4, 5, 1, 5, 1, 2, 3, 4, 5, 4, 5, 1, 2, 3, 4, 5, 1, 2, 3, 4, 1, 2, 3, 4, 1, 4, 1, 2, 3, 1, 2, 3, 4, 5, 2, 3, 1, 2, 3, 1, 2, 3, 4], \"Freq\": [0.167084738612175, 0.5012542009353638, 0.12531355023384094, 0.12531355023384094, 0.0835423693060875, 0.14152643084526062, 0.28305286169052124, 0.495342493057251, 0.11702940613031387, 0.23405881226062775, 0.11702940613031387, 0.4681176245212555, 0.14357662200927734, 0.2871532440185547, 0.07178831100463867, 0.14357662200927734, 0.35894155502319336, 0.11827785521745682, 0.47311142086982727, 0.35483357310295105, 0.23751650750637054, 0.11875825375318527, 0.5937912464141846, 0.41428643465042114, 0.03766240179538727, 0.07532480359077454, 0.30129921436309814, 0.18831202387809753, 0.12518846988677979, 0.06259423494338989, 0.06259423494338989, 0.8137250542640686, 0.1665935069322586, 0.0832967534661293, 0.7496707439422607, 0.8664172291755676, 0.6079702973365784, 0.24318812787532806, 0.727776050567627, 0.10702589154243469, 0.042810358107089996, 0.042810358107089996, 0.08562071621417999, 0.2890723645687103, 0.14453618228435516, 0.14453618228435516, 0.14453618228435516, 0.2890723645687103, 0.24232244491577148, 0.6663867235183716, 0.06058061122894287, 0.6796035170555115, 0.22653450071811676, 0.649602472782135, 0.1443561166524887, 0.1443561166524887, 0.09850926697254181, 0.19701853394508362, 0.39403706789016724, 0.2955278158187866, 0.23687075078487396, 0.7106122374534607, 0.6169290542602539, 0.33650675415992737, 0.33502981066703796, 0.4606660008430481, 0.16751490533351898, 0.09643702954053879, 0.48218512535095215, 0.09643702954053879, 0.28931108117103577, 0.20468959212303162, 0.6822986602783203, 0.048324380069971085, 0.7731900811195374, 0.14497312903404236, 0.12476182729005814, 0.12476182729005814, 0.12476182729005814, 0.6238091588020325, 0.13830356299877167, 0.2074553519487381, 0.4149107038974762, 0.13830356299877167, 0.13830356299877167, 0.7175637483596802, 0.23918791115283966, 0.8644399642944336, 0.2781333923339844, 0.2781333923339844, 0.04635556787252426, 0.2781333923339844, 0.18542227149009705, 0.63088059425354, 0.31544029712677, 0.5864629149436951, 0.29323145747184753, 0.36296501755714417, 0.4990769028663635, 0.09074125438928604, 0.3989311158657074, 0.1994655579328537, 0.07479958236217499, 0.22439876198768616, 0.09973277896642685, 0.5598115921020508, 0.1399528980255127, 0.034988224506378174, 0.1399528980255127, 0.1399528980255127, 0.2418549805879593, 0.7255649566650391, 0.32281166315078735, 0.5380194187164307, 0.03586796298623085, 0.0717359259724617, 0.05133121460676193, 0.1539936512708664, 0.7186369895935059, 0.10266242921352386, 0.4850115478038788, 0.1616705060005188, 0.04619157314300537, 0.1385747194290161, 0.20786207914352417, 0.6634191870689392, 0.2487822026014328, 0.0829273983836174, 0.31617313623428345, 0.15808656811714172, 0.15808656811714172, 0.35569480061531067, 0.15379048883914948, 0.46137145161628723, 0.30758097767829895, 0.30200624465942383, 0.6040124893188477, 0.243308886885643, 0.30413609743118286, 0.15206804871559143, 0.1216544434428215, 0.15206804871559143, 0.793302059173584, 0.044072337448596954, 0.08814467489719391, 0.08814467489719391, 0.8987506628036499, 0.10921649634838104, 0.4914742410182953, 0.21843299269676208, 0.10921649634838104, 0.05073504522442818, 0.15220513939857483, 0.5073504447937012, 0.30441027879714966, 0.31724783778190613, 0.31724783778190613, 0.27192673087120056, 0.02266056090593338, 0.09064224362373352, 0.3131817579269409, 0.15659087896347046, 0.15659087896347046, 0.3131817579269409, 0.38386431336402893, 0.10469026863574982, 0.24427729845046997, 0.20938053727149963, 0.06979351490736008, 0.7202114462852478, 0.24007047712802887, 0.39070579409599304, 0.5860586762428284, 0.23534709215164185, 0.04706941917538643, 0.6119024753570557, 0.09413883835077286, 0.1268470734357834, 0.1268470734357834, 0.38054123520851135, 0.31711769104003906, 0.31599918007850647, 0.18959949910640717, 0.1263996660709381, 0.21066612005233765, 0.1474662721157074, 0.11575421690940857, 0.5787710547447205, 0.11575421690940857, 0.23150843381881714, 0.23854981362819672, 0.11927490681409836, 0.47709962725639343, 0.09326197952032089, 0.652833878993988, 0.27978596091270447, 0.21992778778076172, 0.21992778778076172, 0.3298916816711426, 0.18327315151691437, 0.09338898211717606, 0.04669449105858803, 0.5136393904685974, 0.3735559284687042, 0.09874824434518814, 0.296244740486145, 0.09874824434518814, 0.4937412142753601, 0.5171643495559692, 0.10343286395072937, 0.2585821747779846, 0.10343286395072937, 0.6930896043777466, 0.09901280701160431, 0.19802561402320862, 0.5893856287002563, 0.2946928143501282, 0.31911715865135193, 0.5584550499916077, 0.3063649833202362, 0.6127299666404724, 0.1514667123556137, 0.3029334247112274, 0.4544001519680023, 0.12642806768417358, 0.12642806768417358, 0.5689262747764587, 0.12642806768417358, 0.7814606428146362, 0.0520973764359951, 0.1041947528719902, 0.06710559874773026, 0.8723728060722351, 0.06710559874773026, 0.1964038908481598, 0.5330962538719177, 0.1964038908481598, 0.08417309820652008, 0.04888075217604637, 0.6354497671127319, 0.29328450560569763, 0.6567198038101196, 0.18763422966003418, 0.046908557415008545, 0.09381711483001709, 0.15111367404460907, 0.30222734808921814, 0.453341007232666, 0.22465452551841736, 0.11232726275920868, 0.22465452551841736, 0.4493090510368347, 0.6147140264511108, 0.3073570132255554, 0.3976624310016632, 0.546785831451416, 0.15504465997219086, 0.7752233147621155, 0.7534970641136169, 0.16744379699230194, 0.11777447909116745, 0.35332342982292175, 0.4710979163646698, 0.07724234461784363, 0.8496657609939575, 0.08239009231328964, 0.24717028439044952, 0.49434056878089905, 0.16478018462657928, 0.2520683705806732, 0.20165470242500305, 0.05041367560625076, 0.45372307300567627, 0.2978770434856415, 0.14893852174282074, 0.446815550327301, 0.09311944991350174, 0.6518361568450928, 0.18623889982700348, 0.30632537603378296, 0.35737961530685425, 0.05105423182249069, 0.25527116656303406, 0.8959370851516724, 0.08121310919523239, 0.32485243678092957, 0.48727867007255554, 0.11125079542398453, 0.2595852017402649, 0.14833439886569977, 0.14833439886569977, 0.3337523937225342, 0.6798999309539795, 0.22663331031799316, 0.2420116513967514, 0.6655320525169373, 0.402480810880661, 0.5031009912490845, 0.024577394127845764, 0.29492872953414917, 0.3440835177898407, 0.24577392637729645, 0.09830957651138306, 0.1382444053888321, 0.3225702941417694, 0.41473323106765747, 0.04608146846294403, 0.09216293692588806, 0.5854036808013916, 0.2927018404006958, 0.4789261221885681, 0.07982102036476135, 0.07982102036476135, 0.39910510182380676, 0.24095116555690765, 0.4819023311138153, 0.24095116555690765, 0.1980488896369934, 0.1980488896369934, 0.1980488896369934, 0.3960977792739868, 0.07997800409793854, 0.45320868492126465, 0.23993399739265442, 0.23993399739265442, 0.37854981422424316, 0.18927490711212158, 0.047318726778030396, 0.09463745355606079, 0.33123108744621277, 0.6645653247833252, 0.2953623831272125, 0.7251833081245422, 0.1208638846874237, 0.1208638846874237, 0.14364385604858398, 0.07182192802429199, 0.43093156814575195, 0.35910964012145996, 0.559359073638916, 0.10487982630729675, 0.03495994210243225, 0.279679536819458, 0.0699198842048645, 0.27525651454925537, 0.18350434303283691, 0.061168115586042404, 0.36700868606567383, 0.12233623117208481, 0.15790250897407532, 0.6316100358963013, 0.15790250897407532, 0.23946179449558258, 0.09578471630811691, 0.09578471630811691, 0.09578471630811691, 0.47892358899116516, 0.5830630660057068, 0.16658945381641388, 0.16658945381641388, 0.28370776772499084, 0.22696621716022491, 0.05674155429005623, 0.11348310858011246, 0.28370776772499084, 0.6965895891189575, 0.09951280057430267, 0.09951280057430267, 0.21562866866588593, 0.07187622785568237, 0.575009822845459, 0.14375245571136475, 0.236875519156456, 0.05263900384306908, 0.36847302317619324, 0.31583401560783386, 0.05263900384306908, 0.07059994339942932, 0.14119988679885864, 0.14119988679885864, 0.6353995203971863, 0.5017798542976379, 0.13938328623771667, 0.16725994646549225, 0.027876656502485275, 0.13938328623771667, 0.7015203833580017, 0.1275491565465927, 0.1275491565465927, 0.31122419238090515, 0.38903024792671204, 0.11670906841754913, 0.15561209619045258, 0.6139320731163025, 0.30696603655815125, 0.08233217149972916, 0.1646643429994583, 0.7409895062446594, 0.11256451159715652, 0.16884677112102509, 0.5628225207328796, 0.16884677112102509, 0.21315667033195496, 0.21315667033195496, 0.3045095205307007, 0.21315667033195496, 0.060901906341314316, 0.16446878015995026, 0.49340635538101196, 0.3289375603199005, 0.26575350761413574, 0.06643837690353394, 0.1993151158094406, 0.13287675380706787, 0.3321918845176697, 0.6867223978042603, 0.031214652583003044, 0.031214652583003044, 0.21850258111953735, 0.06242930516600609, 0.059408999979496, 0.4158630073070526, 0.029704499989748, 0.4455675184726715, 0.059408999979496, 0.1690973937511444, 0.439653217792511, 0.3381947875022888, 0.03381947800517082, 0.30582430958747864, 0.37378525733947754, 0.16990239918231964, 0.135921910405159, 0.16281487047672272, 0.19537784159183502, 0.19537784159183502, 0.19537784159183502, 0.22794081270694733, 0.15923230350017548, 0.557313084602356, 0.15923230350017548, 0.10746661573648453, 0.3868798017501831, 0.08597329258918762, 0.23642654716968536, 0.19343990087509155, 0.13559845089912415, 0.745791494846344, 0.06779922544956207, 0.22298842668533325, 0.16724132001399994, 0.11149421334266663, 0.5017239451408386, 0.042163584381341934, 0.29514506459236145, 0.042163584381341934, 0.5059629678726196, 0.16865433752536774, 0.10180269181728363, 0.20360538363456726, 0.5599148273468018, 0.10180269181728363, 0.24170979857444763, 0.7251293659210205, 0.18280649185180664, 0.30467748641967773, 0.3656129837036133, 0.030467750504612923, 0.12187100201845169, 0.3564903438091278, 0.27422335743904114, 0.27422335743904114, 0.027422334998846054, 0.05484466999769211, 0.18177780508995056, 0.23371431231498718, 0.46742862462997437, 0.12984128296375275, 0.14916369318962097, 0.497212290763855, 0.19888491928577423, 0.04972122982144356, 0.09944245964288712, 0.028768911957740784, 0.28768911957740784, 0.40276476740837097, 0.11507564783096313, 0.14384455978870392, 0.23674434423446655, 0.1972869634628296, 0.15782956779003143, 0.31565913558006287, 0.07891478389501572, 0.6987415552139282, 0.1996404379606247, 0.6079502701759338, 0.24318011105060577, 0.4400869607925415, 0.08001580834388733, 0.040007904171943665, 0.3200632333755493, 0.08001580834388733, 0.028695303946733475, 0.28695303201675415, 0.4591248631477356, 0.1147812157869339, 0.1147812157869339, 0.16777390241622925, 0.16777390241622925, 0.3355478048324585, 0.3355478048324585, 0.6706081032752991, 0.16765202581882477, 0.16765202581882477, 0.09771692007780075, 0.1954338401556015, 0.48858457803726196, 0.1954338401556015, 0.15183740854263306, 0.07591870427131653, 0.26571545004844666, 0.45551222562789917, 0.3763439357280731, 0.470429927110672, 0.12375548481941223, 0.061877742409706116, 0.8044106364250183, 0.29995307326316833, 0.14997653663158417, 0.4499296247959137, 0.5718194842338562, 0.3430916666984558, 0.31345734000205994, 0.15672867000102997, 0.15672867000102997, 0.31345734000205994, 0.10389939695596695, 0.5714467167854309, 0.10389939695596695, 0.2077987939119339, 0.8040772676467896, 0.07309793680906296, 0.07309793680906296, 0.1069885641336441, 0.7489199638366699, 0.1069885641336441, 0.6938729286193848, 0.19824939966201782, 0.6315303444862366, 0.3157651722431183, 0.652529239654541, 0.07250324636697769, 0.29001298546791077, 0.15450961887836456, 0.5021562576293945, 0.15450961887836456, 0.11588221788406372, 0.07725480943918228, 0.16997714340686798, 0.441940575838089, 0.2719634175300598, 0.1359817087650299, 0.596295952796936, 0.34074053168296814, 0.6045788526535034, 0.12091577053070068, 0.24183154106140137, 0.6069848537445068, 0.0728381797671318, 0.1456763595342636, 0.09711757302284241, 0.09711757302284241, 0.3771285116672516, 0.5656927227973938, 0.6312911510467529, 0.31564557552337646, 0.30354154109954834, 0.354131817817688, 0.10118051618337631, 0.20236103236675262, 0.16505621373653412, 0.16505621373653412, 0.1375468373298645, 0.33011242747306824, 0.19256557524204254, 0.09916147589683533, 0.6941303610801697, 0.19832295179367065, 0.12923073768615723, 0.19384612143039703, 0.484615296125412, 0.19384612143039703, 0.08109761029481888, 0.3243904411792755, 0.5676832795143127, 0.4793051481246948, 0.4793051481246948, 0.21355675160884857, 0.3559279441833496, 0.21355675160884857, 0.2847423553466797, 0.17609861493110657, 0.08804930746555328, 0.08804930746555328, 0.08804930746555328, 0.5282958149909973, 0.6496533155441284, 0.09280761331319809, 0.18561522662639618, 0.8544496893882751, 0.12206424027681351, 0.19857405126094818, 0.19857405126094818, 0.49643510580062866, 0.6165063381195068, 0.3082531690597534, 0.3373357951641083, 0.08433394879102707, 0.16866789758205414, 0.16866789758205414, 0.3373357951641083, 0.04544151946902275, 0.2726491391658783, 0.0908830389380455, 0.5907397866249084, 0.09631913155317307, 0.38527652621269226, 0.19263826310634613, 0.38527652621269226, 0.15983442962169647, 0.6393377184867859, 0.07991721481084824, 0.15983442962169647, 0.6976093649864197, 0.19931694865226746, 0.3190649151802063, 0.18232280015945435, 0.20511315762996674, 0.20511315762996674, 0.045580700039863586, 0.7843527793884277, 0.11205039173364639, 0.38668328523635864, 0.19334164261817932, 0.38668328523635864, 0.24167823791503906, 0.04027970880270004, 0.04027970880270004, 0.4430767893791199, 0.2819579541683197, 0.6257465481758118, 0.3128732740879059, 0.2206440567970276, 0.0551610141992569, 0.24822455644607544, 0.4137076139450073, 0.0551610141992569, 0.24080917239189148, 0.48161834478378296, 0.24080917239189148, 0.14715442061424255, 0.22073163092136383, 0.12262868136167526, 0.49051472544670105, 0.024525737389922142, 0.30641648173332214, 0.6128329634666443, 0.042428888380527496, 0.2545733153820038, 0.21214443445205688, 0.33943110704421997, 0.16971555352210999, 0.5089375376701355, 0.08482291549444199, 0.08482291549444199, 0.33929166197776794, 0.7050052285194397, 0.035250261425971985, 0.10575078427791595, 0.17625130712985992, 0.2959260046482086, 0.5918520092964172, 0.12334316223859787, 0.6578301787376404, 0.12334316223859787, 0.08222877234220505, 0.2500113844871521, 0.5833598971366882, 0.16667425632476807, 0.14291006326675415, 0.14291006326675415, 0.5001851916313171, 0.14291006326675415, 0.17228706181049347, 0.08614353090524673, 0.17228706181049347, 0.3876458704471588, 0.17228706181049347, 0.11921250075101852, 0.71527498960495, 0.1451072245836258, 0.5078752636909485, 0.1451072245836258, 0.1451072245836258, 0.594074547290802, 0.05940745770931244, 0.05940745770931244, 0.23762983083724976, 0.07920994609594345, 0.7925437092781067, 0.03774017468094826, 0.07548034936189651, 0.07548034936189651, 0.05727264657616615, 0.1145452931523323, 0.05727264657616615, 0.3436358869075775, 0.5154538154602051, 0.26306721568107605, 0.6576679944992065, 0.035615164786577225, 0.6054577827453613, 0.1424606591463089, 0.07123032957315445, 0.1424606591463089, 0.6164360046386719, 0.30821800231933594, 0.46346884965896606, 0.23173442482948303, 0.17380081117153168, 0.08690040558576584, 0.05793360620737076, 0.4252883195877075, 0.255172997713089, 0.04252883046865463, 0.21264415979385376, 0.5158780217170715, 0.10317560285329819, 0.30952680110931396, 0.051587801426649094, 0.47974756360054016, 0.47974756360054016, 0.14410309493541718, 0.07205154746770859, 0.7205154299736023, 0.10861333459615707, 0.4344533383846283, 0.18102222681045532, 0.1448177844285965, 0.1448177844285965, 0.3505326211452484, 0.46737679839134216, 0.2385934740304947, 0.2385934740304947, 0.4771869480609894, 0.49997982382774353, 0.05262945592403412, 0.02631472796201706, 0.3947209119796753], \"Term\": [\"abl\", \"abl\", \"abl\", \"abl\", \"abl\", \"actual\", \"actual\", \"actual\", \"adapt\", \"adapt\", \"adapt\", \"adapt\", \"advanc\", \"advanc\", \"advanc\", \"advanc\", \"advanc\", \"allen\", \"allen\", \"allen\", \"allow\", \"allow\", \"allow\", \"ambassador\", \"ambassador\", \"ambassador\", \"ambassador\", \"ambassador\", \"anchor\", \"anchor\", \"anchor\", \"anchor\", \"anxieti\", \"anxieti\", \"anxieti\", \"apart\", \"appli\", \"appli\", \"armi\", \"armi\", \"armi\", \"armi\", \"armi\", \"arriv\", \"arriv\", \"arriv\", \"arriv\", \"arriv\", \"assign\", \"assign\", \"assign\", \"associ\", \"associ\", \"attend\", \"attend\", \"attend\", \"avail\", \"avail\", \"avail\", \"avail\", \"basic\", \"basic\", \"belvoir\", \"belvoir\", \"better\", \"better\", \"better\", \"booz\", \"booz\", \"booz\", \"booz\", \"brat\", \"brat\", \"brother\", \"brother\", \"brother\", \"buddi\", \"buddi\", \"buddi\", \"buddi\", \"build\", \"build\", \"build\", \"build\", \"build\", \"bulli\", \"bulli\", \"california\", \"call\", \"call\", \"call\", \"call\", \"call\", \"carolina\", \"carolina\", \"certain\", \"certain\", \"challeng\", \"challeng\", \"challeng\", \"child\", \"child\", \"child\", \"child\", \"child\", \"children\", \"children\", \"children\", \"children\", \"children\", \"choic\", \"choic\", \"civilian\", \"civilian\", \"civilian\", \"civilian\", \"club\", \"club\", \"club\", \"club\", \"command\", \"command\", \"command\", \"command\", \"command\", \"common\", \"common\", \"common\", \"contact\", \"contact\", \"contact\", \"contact\", \"cop\", \"cop\", \"cop\", \"correct\", \"correct\", \"counselor\", \"counselor\", \"counselor\", \"counselor\", \"counselor\", \"counti\", \"counti\", \"counti\", \"counti\", \"credit\", \"cultur\", \"cultur\", \"cultur\", \"cultur\", \"curriculum\", \"curriculum\", \"curriculum\", \"curriculum\", \"daughter\", \"daughter\", \"daughter\", \"daughter\", \"daughter\", \"day\", \"day\", \"day\", \"day\", \"depend\", \"depend\", \"depend\", \"depend\", \"depend\", \"design\", \"design\", \"develop\", \"develop\", \"diego\", \"diego\", \"diego\", \"diego\", \"direct\", \"direct\", \"direct\", \"direct\", \"district\", \"district\", \"district\", \"district\", \"district\", \"drive\", \"drive\", \"drive\", \"drive\", \"eas\", \"eas\", \"eas\", \"easi\", \"easi\", \"easi\", \"easier\", \"easier\", \"easier\", \"easier\", \"educ\", \"educ\", \"educ\", \"educ\", \"effort\", \"effort\", \"effort\", \"effort\", \"elementari\", \"elementari\", \"elementari\", \"elementari\", \"encourag\", \"encourag\", \"encourag\", \"english\", \"english\", \"environ\", \"environ\", \"expens\", \"expens\", \"explain\", \"explain\", \"explain\", \"facebook\", \"facebook\", \"facebook\", \"facebook\", \"fairfax\", \"fairfax\", \"fairfax\", \"father\", \"father\", \"father\", \"feel\", \"feel\", \"feel\", \"feel\", \"felt\", \"felt\", \"felt\", \"florida\", \"florida\", \"florida\", \"florida\", \"follow\", \"follow\", \"follow\", \"form\", \"form\", \"form\", \"form\", \"formal\", \"formal\", \"fort\", \"fort\", \"fulli\", \"fulli\", \"fund\", \"fund\", \"general\", \"general\", \"general\", \"germani\", \"germani\", \"girl\", \"girl\", \"girl\", \"girl\", \"give\", \"give\", \"give\", \"give\", \"goodby\", \"goodby\", \"goodby\", \"graduat\", \"graduat\", \"graduat\", \"great\", \"great\", \"great\", \"great\", \"grind\", \"grow\", \"grow\", \"grow\", \"guidanc\", \"guidanc\", \"guidanc\", \"guidanc\", \"guidanc\", \"hand\", \"hand\", \"hang\", \"hang\", \"happen\", \"happen\", \"hard\", \"hard\", \"hard\", \"hard\", \"hard\", \"harder\", \"harder\", \"harder\", \"harder\", \"harder\", \"hardest\", \"hardest\", \"hawaii\", \"hawaii\", \"hawaii\", \"hawaii\", \"hear\", \"hear\", \"hear\", \"higher\", \"higher\", \"higher\", \"higher\", \"home\", \"home\", \"home\", \"home\", \"idea\", \"idea\", \"idea\", \"idea\", \"idea\", \"implement\", \"implement\", \"includ\", \"includ\", \"includ\", \"incom\", \"incom\", \"incom\", \"incom\", \"info\", \"info\", \"info\", \"info\", \"info\", \"inform\", \"inform\", \"inform\", \"inform\", \"inform\", \"initi\", \"initi\", \"initi\", \"instal\", \"instal\", \"instal\", \"instal\", \"instal\", \"instanc\", \"instanc\", \"instanc\", \"interact\", \"interact\", \"interact\", \"interact\", \"interact\", \"interview\", \"interview\", \"interview\", \"introduc\", \"introduc\", \"introduc\", \"introduc\", \"involv\", \"involv\", \"involv\", \"involv\", \"involv\", \"island\", \"island\", \"island\", \"island\", \"issu\", \"issu\", \"issu\", \"issu\", \"issu\", \"itali\", \"itali\", \"itali\", \"join\", \"join\", \"join\", \"join\", \"kansa\", \"kansa\", \"keep\", \"keep\", \"keep\", \"kind\", \"kind\", \"kind\", \"kind\", \"learn\", \"learn\", \"learn\", \"learn\", \"learn\", \"letter\", \"letter\", \"letter\", \"level\", \"level\", \"level\", \"level\", \"level\", \"liaison\", \"liaison\", \"liaison\", \"liaison\", \"liaison\", \"life\", \"life\", \"life\", \"life\", \"life\", \"littl\", \"littl\", \"littl\", \"littl\", \"local\", \"local\", \"local\", \"local\", \"locat\", \"locat\", \"locat\", \"locat\", \"locat\", \"long\", \"long\", \"long\", \"look\", \"look\", \"look\", \"look\", \"look\", \"lose\", \"lose\", \"lose\", \"lunch\", \"lunch\", \"lunch\", \"lunch\", \"make\", \"make\", \"make\", \"make\", \"make\", \"mayb\", \"mayb\", \"mayb\", \"mayb\", \"mental\", \"mental\", \"middl\", \"middl\", \"middl\", \"middl\", \"middl\", \"month\", \"month\", \"month\", \"month\", \"month\", \"navi\", \"navi\", \"navi\", \"navi\", \"neighborhood\", \"neighborhood\", \"neighborhood\", \"neighborhood\", \"neighborhood\", \"network\", \"network\", \"network\", \"network\", \"network\", \"nice\", \"nice\", \"nice\", \"nice\", \"nice\", \"norfolk\", \"norfolk\", \"nova\", \"nova\", \"offic\", \"offic\", \"offic\", \"offic\", \"offic\", \"older\", \"older\", \"older\", \"older\", \"older\", \"open\", \"open\", \"open\", \"open\", \"opportun\", \"opportun\", \"opportun\", \"order\", \"order\", \"order\", \"order\", \"organ\", \"organ\", \"organ\", \"organ\", \"outgo\", \"outgo\", \"packet\", \"packet\", \"packet\", \"pair\", \"pair\", \"pair\", \"part\", \"part\", \"pcsing\", \"pcsing\", \"pcsing\", \"pcsing\", \"peer\", \"peer\", \"peer\", \"peer\", \"plan\", \"plan\", \"plan\", \"post\", \"post\", \"post\", \"practic\", \"practic\", \"previous\", \"previous\", \"princip\", \"princip\", \"princip\", \"privat\", \"privat\", \"privat\", \"privat\", \"privat\", \"probabl\", \"probabl\", \"probabl\", \"probabl\", \"project\", \"project\", \"promot\", \"promot\", \"promot\", \"provid\", \"provid\", \"provid\", \"provid\", \"provid\", \"push\", \"push\", \"quarter\", \"quarter\", \"question\", \"question\", \"question\", \"question\", \"reach\", \"reach\", \"reach\", \"reach\", \"reach\", \"read\", \"read\", \"read\", \"relationship\", \"relationship\", \"relationship\", \"relationship\", \"rememb\", \"rememb\", \"rememb\", \"resili\", \"resili\", \"retir\", \"retir\", \"retir\", \"retir\", \"right\", \"right\", \"right\", \"right\", \"right\", \"rule\", \"rule\", \"rule\", \"safeti\", \"safeti\", \"schedul\", \"schedul\", \"schedul\", \"scholarship\", \"scholarship\", \"see\", \"see\", \"see\", \"see\", \"see\", \"send\", \"send\", \"send\", \"send\", \"senior\", \"senior\", \"senior\", \"senior\", \"sens\", \"sens\", \"sens\", \"sens\", \"separ\", \"separ\", \"servic\", \"servic\", \"servic\", \"servic\", \"servic\", \"singl\", \"singl\", \"situat\", \"situat\", \"situat\", \"slos\", \"slos\", \"slos\", \"slos\", \"slos\", \"speak\", \"speak\", \"specif\", \"specif\", \"specif\", \"specif\", \"specif\", \"spend\", \"spend\", \"spend\", \"sponsor\", \"sponsor\", \"sponsor\", \"sponsor\", \"sponsor\", \"sponsorship\", \"sponsorship\", \"spous\", \"spous\", \"spous\", \"spous\", \"spous\", \"star\", \"star\", \"star\", \"star\", \"state\", \"state\", \"state\", \"state\", \"stem\", \"stem\", \"summer\", \"summer\", \"summer\", \"summer\", \"teach\", \"teach\", \"teach\", \"team\", \"team\", \"team\", \"team\", \"tell\", \"tell\", \"tell\", \"tell\", \"tell\", \"term\", \"term\", \"touch\", \"touch\", \"touch\", \"touch\", \"train\", \"train\", \"train\", \"train\", \"train\", \"transfer\", \"transfer\", \"transfer\", \"transfer\", \"type\", \"type\", \"type\", \"type\", \"type\", \"typic\", \"typic\", \"understand\", \"understand\", \"understand\", \"understand\", \"understand\", \"uniqu\", \"uniqu\", \"unit\", \"unit\", \"unit\", \"unit\", \"unit\", \"usual\", \"usual\", \"usual\", \"usual\", \"virginia\", \"virginia\", \"virginia\", \"virginia\", \"websit\", \"websit\", \"week\", \"week\", \"week\", \"welcom\", \"welcom\", \"welcom\", \"welcom\", \"welcom\", \"weren\", \"weren\", \"wish\", \"wish\", \"wish\", \"youth\", \"youth\", \"youth\", \"youth\"]}, \"R\": 30, \"lambda.step\": 0.01, \"plot.opts\": {\"xlab\": \"PC1\", \"ylab\": \"PC2\"}, \"topic.order\": [2, 1, 5, 4, 3]};\n",
       "\n",
       "function LDAvis_load_lib(url, callback){\n",
       "  var s = document.createElement('script');\n",
       "  s.src = url;\n",
       "  s.async = true;\n",
       "  s.onreadystatechange = s.onload = callback;\n",
       "  s.onerror = function(){console.warn(\"failed to load library \" + url);};\n",
       "  document.getElementsByTagName(\"head\")[0].appendChild(s);\n",
       "}\n",
       "\n",
       "if(typeof(LDAvis) !== \"undefined\"){\n",
       "   // already loaded: just create the visualization\n",
       "   !function(LDAvis){\n",
       "       new LDAvis(\"#\" + \"ldavis_el938014498228549848295288057\", ldavis_el938014498228549848295288057_data);\n",
       "   }(LDAvis);\n",
       "}else if(typeof define === \"function\" && define.amd){\n",
       "   // require.js is available: use it to load d3/LDAvis\n",
       "   require.config({paths: {d3: \"https://cdnjs.cloudflare.com/ajax/libs/d3/3.5.5/d3.min\"}});\n",
       "   require([\"d3\"], function(d3){\n",
       "      window.d3 = d3;\n",
       "      LDAvis_load_lib(\"https://cdn.rawgit.com/bmabey/pyLDAvis/files/ldavis.v1.0.0.js\", function(){\n",
       "        new LDAvis(\"#\" + \"ldavis_el938014498228549848295288057\", ldavis_el938014498228549848295288057_data);\n",
       "      });\n",
       "    });\n",
       "}else{\n",
       "    // require.js not available: dynamically load d3 & LDAvis\n",
       "    LDAvis_load_lib(\"https://cdnjs.cloudflare.com/ajax/libs/d3/3.5.5/d3.min.js\", function(){\n",
       "         LDAvis_load_lib(\"https://cdn.rawgit.com/bmabey/pyLDAvis/files/ldavis.v1.0.0.js\", function(){\n",
       "                 new LDAvis(\"#\" + \"ldavis_el938014498228549848295288057\", ldavis_el938014498228549848295288057_data);\n",
       "            })\n",
       "         });\n",
       "}\n",
       "</script>"
      ],
      "text/plain": [
       "<IPython.core.display.HTML object>"
      ]
     },
     "execution_count": 162,
     "metadata": {},
     "output_type": "execute_result"
    }
   ],
   "source": [
    "pyLDAvis.display(vis_data)"
   ]
  },
  {
   "cell_type": "code",
   "execution_count": 214,
   "metadata": {},
   "outputs": [],
   "source": [
    "# everything below is still in the works..."
   ]
  },
  {
   "cell_type": "code",
   "execution_count": 170,
   "metadata": {},
   "outputs": [
    {
     "name": "stdout",
     "output_type": "stream",
     "text": [
      "\n",
      "Coherence Score:  0.2996651353484938\n"
     ]
    }
   ],
   "source": [
    "#compute coherence score\n",
    "from gensim.models import CoherenceModel\n",
    "\n",
    "coherence_model_lda = CoherenceModel(model=lda_model, texts=processed_docs, dictionary=dictionary, coherence='c_v')\n",
    "coherence_lda = coherence_model_lda.get_coherence()\n",
    "print('\\nCoherence Score: ', coherence_lda)"
   ]
  },
  {
   "cell_type": "markdown",
   "metadata": {},
   "source": [
    "LDA Mallet Model"
   ]
  },
  {
   "cell_type": "code",
   "execution_count": 179,
   "metadata": {},
   "outputs": [],
   "source": [
    "doc_term_matrix = [dictionary.doc2bow(doc) for doc in processed_docs]"
   ]
  },
  {
   "cell_type": "code",
   "execution_count": 183,
   "metadata": {},
   "outputs": [],
   "source": [
    "def _extract_data(topic_model, corpus, dictionary, doc_topic_dists=None):\n",
    "    import gensim\n",
    "\n",
    "    if not gensim.matutils.ismatrix(corpus):\n",
    "        corpus_csc = gensim.matutils.corpus2csc(corpus, num_terms=len(dictionary))\n",
    "    else:\n",
    "        corpus_csc = corpus\n",
    "        # Need corpus to be a streaming gensim list corpus for len and inference functions below:\n",
    "        corpus = gensim.matutils.Sparse2Corpus(corpus_csc)\n",
    "\n",
    "    vocab = list(dictionary.token2id.keys())\n",
    "    # TODO: add the hyperparam to smooth it out? no beta in online LDA impl.. hmm..\n",
    "    # for now, I'll just make sure we don't ever get zeros...\n",
    "    beta = 0.01\n",
    "    fnames_argsort = np.asarray(list(dictionary.token2id.values()), dtype=np.int_)\n",
    "    term_freqs = corpus_csc.sum(axis=1).A.ravel()[fnames_argsort]\n",
    "    term_freqs[term_freqs == 0] = beta\n",
    "    doc_lengths = corpus_csc.sum(axis=0).A.ravel()\n",
    "\n",
    "    assert term_freqs.shape[0] == len(dictionary),\\\n",
    "        'Term frequencies and dictionary have different shape {} != {}'.format(\n",
    "        term_freqs.shape[0], len(dictionary))\n",
    "    assert doc_lengths.shape[0] == len(corpus),\\\n",
    "        'Document lengths and corpus have different sizes {} != {}'.format(\n",
    "        doc_lengths.shape[0], len(corpus))\n",
    "\n",
    "    if hasattr(topic_model, 'lda_alpha'):\n",
    "        num_topics = len(topic_model.lda_alpha)\n",
    "    else:\n",
    "        num_topics = topic_model.num_topics\n",
    "\n",
    "    if doc_topic_dists is None:\n",
    "        # If its an HDP model.\n",
    "        if hasattr(topic_model, 'lda_beta'):\n",
    "            gamma = topic_model.inference(corpus)\n",
    "        else:\n",
    "            gamma, _ = topic_model.inference(corpus)\n",
    "        doc_topic_dists = gamma / gamma.sum(axis=1)[:, None]\n",
    "    else:\n",
    "        if isinstance(doc_topic_dists, list):\n",
    "            doc_topic_dists = gensim.matutils.corpus2dense(doc_topic_dists, num_topics).T\n",
    "        elif issparse(doc_topic_dists):\n",
    "            doc_topic_dists = doc_topic_dists.T.todense()\n",
    "        doc_topic_dists = doc_topic_dists / doc_topic_dists.sum(axis=1)\n",
    "\n",
    "    assert doc_topic_dists.shape[1] == num_topics,\\\n",
    "        'Document topics and number of topics do not match {} != {}'.format(\n",
    "        doc_topic_dists.shape[1], num_topics)\n",
    "\n",
    "    # get the topic-term distribution straight from gensim without\n",
    "    # iterating over tuples\n",
    "    if hasattr(topic_model, 'lda_beta'):\n",
    "        topic = topic_model.lda_beta\n",
    "    else:\n",
    "        topic = topic_model.state.get_lambda()\n",
    "    topic = topic / topic.sum(axis=1)[:, None]\n",
    "    topic_term_dists = topic[:, fnames_argsort]\n",
    "\n",
    "    assert topic_term_dists.shape[0] == doc_topic_dists.shape[1]\n",
    "\n",
    "    return {'topic_term_dists': topic_term_dists, 'doc_topic_dists': doc_topic_dists,\n",
    "            'doc_lengths': doc_lengths, 'vocab': vocab, 'term_frequency': term_freqs}\n"
   ]
  },
  {
   "cell_type": "code",
   "execution_count": 187,
   "metadata": {},
   "outputs": [],
   "source": [
    "topic_model_data = _extract_data(lda_model, bow_corpus, dictionary, doc_topic_dists=None)"
   ]
  },
  {
   "cell_type": "code",
   "execution_count": 190,
   "metadata": {},
   "outputs": [
    {
     "data": {
      "text/plain": [
       "64"
      ]
     },
     "execution_count": 190,
     "metadata": {},
     "output_type": "execute_result"
    }
   ],
   "source": [
    "len(topic_model_data['doc_topic_dists'])\n",
    "#sum ting wong"
   ]
  },
  {
   "cell_type": "code",
   "execution_count": null,
   "metadata": {},
   "outputs": [],
   "source": []
  }
 ],
 "metadata": {
  "kernelspec": {
   "display_name": "Python 3",
   "language": "python",
   "name": "python3"
  },
  "language_info": {
   "codemirror_mode": {
    "name": "ipython",
    "version": 3
   },
   "file_extension": ".py",
   "mimetype": "text/x-python",
   "name": "python",
   "nbconvert_exporter": "python",
   "pygments_lexer": "ipython3",
   "version": "3.7.3"
  }
 },
 "nbformat": 4,
 "nbformat_minor": 2
}
